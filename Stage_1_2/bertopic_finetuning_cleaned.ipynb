{
 "cells": [
  {
   "cell_type": "markdown",
   "metadata": {
    "id": "rc0ZtobsTjdM"
   },
   "source": [
    "<h1>1. testing out sentence transformer..."
   ]
  },
  {
   "cell_type": "code",
   "execution_count": null,
   "metadata": {
    "colab": {
     "base_uri": "https://localhost:8080/",
     "height": 496,
     "referenced_widgets": [
      "7e9145d4f8dc49ea859755854fce3873",
      "54981f50c4e8400bb1eac189f35ee140",
      "c3332d1fbebc4b7f9b57d9171a8b6589",
      "bab71d60392e4079acb63f5d50f818ff",
      "3ce7872c3ca34cfba6e6779a7a7cc5e0",
      "e23180024fa54438819a7477af1df720",
      "b1ab2242c12347faab2f222d502f9f7b",
      "2f4e5479a3f6448da1845ddfb3ba5168",
      "e96c1a47862d49809007aadd21de22b4",
      "b0a66f1980cd45e28647808ab453c56d",
      "0375b6b89b094071ab4fdfd5672afe9f",
      "ea9a5132482543e192b4a7e761082300",
      "35619e6ad7ee4443b3177b605ce8114c",
      "38b60825ab2345cbb4bd1d41441070b0",
      "3fc8dbf6654f4bf7ab0b39a022971e00",
      "5334d3bbc3864d4ab8843f7e84c3d561",
      "36edb7307c9947128c1109528daba79a",
      "98e4401c8134487e87cda2e9c8623df8",
      "727d5766549243d88f4163efb04733fe",
      "82cd3578bae14c3eb7ede5a4cc5d330f",
      "a0870798265f4e689bf25eea3b1a6469",
      "c19cc2259d3f4e23a38c2ea5565a0c24",
      "e96d80b1008e49ef8008c1192f256961",
      "5df2953c811c4914ae4d5791924b223a",
      "6edd7922c37c4820bb757e8b70f3dcb2",
      "819865a259ca45879ce9a6dd56cd056e",
      "f9fa76f003b949198af70e71c51f614c",
      "d8cd7807c1404e26aefd925ab84a0934",
      "fb47fd9077c24e98a44fbfa4f3623f8f",
      "9f638d62a7cb453da7952f768aadb3da",
      "01771f243baf4e3caf22e45576e43032",
      "495e2f0a8d84499c8c4c715da0a67ff6",
      "f934d42c46a344de85a6e979c1462f95",
      "6edc6d03fd1448a48a374905d62f4132",
      "af6ca43a9c0b4e0ab3ba6ea167e5ac1d",
      "77b55a98eb47485b9550ff96d1b148fd",
      "99f7258b9f3546d9beb94a5d3c170de6",
      "e053c4be902347ba9db9c693634296be",
      "815a11f545c5431d8db87167313776ce",
      "acd681c5db1e4fdbb34b7d7a0f524e4d",
      "3e67c784b932470cb6bf0176ef3d94a8",
      "c4bb90631ddf4232a62359d103752082",
      "4a2302ddacaa473b813f068aaa694018",
      "a284a19db2834f3abe17b9c4cb259123",
      "8ed2cdea1a38434aa8ee63806f071949",
      "0788f6690af2408295bd1ae9739dadb1",
      "b57b9e854fe74194897e1236d60574e0",
      "0ba85e30fd804a288394659c9b8cbfdf",
      "0cb7238aeee44b8ca540293652d47497",
      "fbee3a1b90414203a7b548c532a4ee92",
      "5b840555f162471fbc9af13d3d199a95",
      "dcbf1f44e88d4e6ca372e184a1f55e48",
      "f4f4e836d8234b608c8ecc16982902f5",
      "682e3b38d9844cda92fda44e340ab1c0",
      "5dfc93e333fd4e4dbfedff4d5f62aecb",
      "ecc07d2ff92f4c1480ba813fc5447080",
      "5506cf47f987405d9b062c2b58df8a5f",
      "fbdbd82a4c6043fc89a4c67771f07bcd",
      "a36f0cd5ae08451fb653bd89a1950eca",
      "6dde9f7fc75f498591bf4e67490be7a5",
      "7bdc695558b0414296f210acd40b9436",
      "814a67af855c44f5b8a8d2dace96b142",
      "6e86fa469ed3471aa747dee0d6c9f5c1",
      "bd0db11993ed4830ae0107106965a659",
      "168fd8d798944af19ab703ce112fd843",
      "8ed506767e354c828a5065ce46658f95",
      "2ecfbf5f1e2445cd9fc03ab4949c178f",
      "b52d22f14ac34af2ae6c3b430589b229",
      "e58be40f81524e05a20f3a824e866f3d",
      "73d16d9d2cc3479abf845615efb0595c",
      "cb660aa97c5a4347b13d0e69d57eb082",
      "17f5c156c808411a89b4c569afdae59b",
      "ebfcf62b6747467bb1ca54129297a7fd",
      "78688c9909b24bbfaa51fae0ea1be113",
      "e7469a257dc94b69b25ba3abce671eca",
      "9e939bc953774c198abc93933e42d744",
      "58929d16947449da89f3cbdc2e2ec582",
      "14f7b20395b74193921ae9ae59f1fdf8",
      "45d0b701e296487ea847880670b08e88",
      "4445173adbd84b7ebdd345e545469331",
      "5cce356a8a364cac96ef581f0e982cf4",
      "fb260a9c05114041b270c8cf6552c7a0",
      "936f6fc64f124647a217cb8c6884b1c5",
      "bc5806e711cd45608615e4244bc9d14b",
      "30e2d644b7d94a889824fe96d4a6cc7c",
      "234bd42f4c914f8d8110fda35384db9c",
      "7a54402cc6824aabbff3ffffc6d24e93",
      "8185a7ae95e44389b422149295102977",
      "fc360c5ca68e4ba1ac916afef3aa0dc0",
      "a0e6b2afce644b05bcfd822c7d46ae05",
      "e4e5576373b841c2a1711354804e2f5d",
      "eb94231e945a4da2b9aa40211c824df7",
      "0bff80de4f7f4e3bb0663e20f1050a00",
      "f937f771c09444ecaa435d75384c7142",
      "55efcaaafa7947a2bfaf4fbf32e533cb",
      "83694bacdefe44e3bb81f1f4401a85b6",
      "9f22e82793de41ce9a554ae80a068f95",
      "b0c6e0f2e47a45ad979b08a054053126",
      "d2a197b33e7d440da3f2e67ef255bc11",
      "6ac6abe136fe4bf6bd663509d9eafea5",
      "58a1a6b9fa8f4deba8f4cba0f1068c27",
      "6b355d9cf2be4477ad7fb9bd88274e1a",
      "437d01d96e0a40ee9baa6848a4df3009",
      "b8d7deb527204325975c0996001f1ffa",
      "1db2cc04eaa24df2ac34b93113485a63",
      "030b8aa7b22b4d508ce204d9ecaff7a8",
      "13dd802ce93a4a70879046e2bcb8752b",
      "e20eec831ceb40ac953caadf509ac474",
      "3d33bb016c72453ea096ff813831f150",
      "41ba4b902eb04055a91f61ece0e4af0f",
      "074264dca0b5496ebf15bbce067d2fa6",
      "e8b2573da37a47a29cb62d8f2056cc1a",
      "8dbde1800a5944639d46a113e015a472",
      "ac44b70eeaa847f083e3244fc58c4a40",
      "2872bf21b57e4303b8ac8990abbd37df",
      "32f1f07d88ef4ad8a9fe9b7b1b482efb",
      "6c66ba4bdfae4b65865fa92c82bb2814",
      "e7338333e44046cd80390de7361927ab",
      "50717cfd681e46f0aa372fa387f2f85f",
      "c616791ce47c48c5ae3d39a0cfd67132",
      "572162261de54283b06b5bba4d9b7ef1"
     ]
    },
    "id": "FnsuwJ1DF0RT",
    "outputId": "945aff4b-53bd-439a-871a-d14104a04e8e"
   },
   "outputs": [
    {
     "name": "stderr",
     "output_type": "stream",
     "text": [
      "/usr/local/lib/python3.11/dist-packages/huggingface_hub/utils/_auth.py:94: UserWarning: \n",
      "The secret `HF_TOKEN` does not exist in your Colab secrets.\n",
      "To authenticate with the Hugging Face Hub, create a token in your settings tab (https://huggingface.co/settings/tokens), set it as secret in your Google Colab and restart your session.\n",
      "You will be able to reuse this secret in all of your notebooks.\n",
      "Please note that authentication is recommended but still optional to access public models or datasets.\n",
      "  warnings.warn(\n"
     ]
    },
    {
     "data": {
      "application/vnd.jupyter.widget-view+json": {
       "model_id": "7e9145d4f8dc49ea859755854fce3873",
       "version_major": 2,
       "version_minor": 0
      },
      "text/plain": [
       "modules.json:   0%|          | 0.00/349 [00:00<?, ?B/s]"
      ]
     },
     "metadata": {},
     "output_type": "display_data"
    },
    {
     "data": {
      "application/vnd.jupyter.widget-view+json": {
       "model_id": "ea9a5132482543e192b4a7e761082300",
       "version_major": 2,
       "version_minor": 0
      },
      "text/plain": [
       "config_sentence_transformers.json:   0%|          | 0.00/116 [00:00<?, ?B/s]"
      ]
     },
     "metadata": {},
     "output_type": "display_data"
    },
    {
     "data": {
      "application/vnd.jupyter.widget-view+json": {
       "model_id": "e96d80b1008e49ef8008c1192f256961",
       "version_major": 2,
       "version_minor": 0
      },
      "text/plain": [
       "README.md:   0%|          | 0.00/10.5k [00:00<?, ?B/s]"
      ]
     },
     "metadata": {},
     "output_type": "display_data"
    },
    {
     "data": {
      "application/vnd.jupyter.widget-view+json": {
       "model_id": "6edc6d03fd1448a48a374905d62f4132",
       "version_major": 2,
       "version_minor": 0
      },
      "text/plain": [
       "sentence_bert_config.json:   0%|          | 0.00/53.0 [00:00<?, ?B/s]"
      ]
     },
     "metadata": {},
     "output_type": "display_data"
    },
    {
     "data": {
      "application/vnd.jupyter.widget-view+json": {
       "model_id": "8ed2cdea1a38434aa8ee63806f071949",
       "version_major": 2,
       "version_minor": 0
      },
      "text/plain": [
       "config.json:   0%|          | 0.00/612 [00:00<?, ?B/s]"
      ]
     },
     "metadata": {},
     "output_type": "display_data"
    },
    {
     "data": {
      "application/vnd.jupyter.widget-view+json": {
       "model_id": "ecc07d2ff92f4c1480ba813fc5447080",
       "version_major": 2,
       "version_minor": 0
      },
      "text/plain": [
       "model.safetensors:   0%|          | 0.00/90.9M [00:00<?, ?B/s]"
      ]
     },
     "metadata": {},
     "output_type": "display_data"
    },
    {
     "data": {
      "application/vnd.jupyter.widget-view+json": {
       "model_id": "2ecfbf5f1e2445cd9fc03ab4949c178f",
       "version_major": 2,
       "version_minor": 0
      },
      "text/plain": [
       "tokenizer_config.json:   0%|          | 0.00/350 [00:00<?, ?B/s]"
      ]
     },
     "metadata": {},
     "output_type": "display_data"
    },
    {
     "data": {
      "application/vnd.jupyter.widget-view+json": {
       "model_id": "14f7b20395b74193921ae9ae59f1fdf8",
       "version_major": 2,
       "version_minor": 0
      },
      "text/plain": [
       "vocab.txt:   0%|          | 0.00/232k [00:00<?, ?B/s]"
      ]
     },
     "metadata": {},
     "output_type": "display_data"
    },
    {
     "data": {
      "application/vnd.jupyter.widget-view+json": {
       "model_id": "fc360c5ca68e4ba1ac916afef3aa0dc0",
       "version_major": 2,
       "version_minor": 0
      },
      "text/plain": [
       "tokenizer.json:   0%|          | 0.00/466k [00:00<?, ?B/s]"
      ]
     },
     "metadata": {},
     "output_type": "display_data"
    },
    {
     "data": {
      "application/vnd.jupyter.widget-view+json": {
       "model_id": "6ac6abe136fe4bf6bd663509d9eafea5",
       "version_major": 2,
       "version_minor": 0
      },
      "text/plain": [
       "special_tokens_map.json:   0%|          | 0.00/112 [00:00<?, ?B/s]"
      ]
     },
     "metadata": {},
     "output_type": "display_data"
    },
    {
     "data": {
      "application/vnd.jupyter.widget-view+json": {
       "model_id": "074264dca0b5496ebf15bbce067d2fa6",
       "version_major": 2,
       "version_minor": 0
      },
      "text/plain": [
       "config.json:   0%|          | 0.00/190 [00:00<?, ?B/s]"
      ]
     },
     "metadata": {},
     "output_type": "display_data"
    }
   ],
   "source": [
    "model = SentenceTransformer(\"all-MiniLM-L6-v2\")\n",
    "\n",
    "sents = ['hi there my name is philip', 'salutations, i\\'m called philip']\n",
    "\n",
    "embeddings = model.encode(sents)\n"
   ]
  },
  {
   "cell_type": "code",
   "execution_count": null,
   "metadata": {
    "colab": {
     "base_uri": "https://localhost:8080/"
    },
    "id": "MDTHRE4gGLuI",
    "outputId": "044bff94-44c5-403c-fc64-d9840db0e452"
   },
   "outputs": [
    {
     "data": {
      "text/plain": [
       "((2, 384), numpy.ndarray)"
      ]
     },
     "execution_count": 3,
     "metadata": {},
     "output_type": "execute_result"
    }
   ],
   "source": [
    "embeddings.shape, type(embeddings[1])"
   ]
  },
  {
   "cell_type": "code",
   "execution_count": null,
   "metadata": {
    "colab": {
     "base_uri": "https://localhost:8080/"
    },
    "id": "6-9HTRZjGUbk",
    "outputId": "c6db7ae1-11f5-4103-aae4-e456858bac92"
   },
   "outputs": [
    {
     "data": {
      "text/plain": [
       "array([[0.71518713]], dtype=float32)"
      ]
     },
     "execution_count": 4,
     "metadata": {},
     "output_type": "execute_result"
    }
   ],
   "source": [
    "from sklearn.metrics.pairwise import cosine_similarity\n",
    "\n",
    "cos_sim = cosine_similarity(embeddings[0].reshape(1,-1), embeddings[1].reshape(1,-1))\n",
    "\n",
    "cos_sim"
   ]
  },
  {
   "cell_type": "code",
   "execution_count": null,
   "metadata": {
    "id": "wQKD_bi-G1tR"
   },
   "outputs": [],
   "source": [
    "docs = fetch_20newsgroups(subset='all', remove=('headers', 'foorters', 'quotes'))['data']"
   ]
  },
  {
   "cell_type": "code",
   "execution_count": null,
   "metadata": {
    "colab": {
     "base_uri": "https://localhost:8080/"
    },
    "id": "Xtx2htouT1Xp",
    "outputId": "1da3a0da-21ef-4cca-90e4-037a0515735a"
   },
   "outputs": [
    {
     "data": {
      "text/plain": [
       "18846"
      ]
     },
     "execution_count": 6,
     "metadata": {},
     "output_type": "execute_result"
    }
   ],
   "source": [
    "len(docs)"
   ]
  },
  {
   "cell_type": "code",
   "execution_count": null,
   "metadata": {
    "colab": {
     "base_uri": "https://localhost:8080/"
    },
    "id": "jcbc14o3UKMM",
    "outputId": "7abbdecc-344d-4474-f43e-d3b00106c2a9"
   },
   "outputs": [
    {
     "data": {
      "text/plain": [
       "(100, 384)"
      ]
     },
     "execution_count": 7,
     "metadata": {},
     "output_type": "execute_result"
    }
   ],
   "source": [
    "embeddings = model.encode(docs[:100])\n",
    "embeddings.shape"
   ]
  },
  {
   "cell_type": "code",
   "execution_count": null,
   "metadata": {
    "colab": {
     "base_uri": "https://localhost:8080/"
    },
    "id": "saT8xwFDUYeX",
    "outputId": "1690c453-9080-4505-c23e-3972f0705971"
   },
   "outputs": [
    {
     "data": {
      "text/plain": [
       "(torch.Size([100, 100]),\n",
       " tensor([[ 1.0000,  0.0196,  0.1641,  ...,  0.1600,  0.1096,  0.0022],\n",
       "         [ 0.0196,  1.0000,  0.1367,  ...,  0.0716, -0.0469,  0.0827],\n",
       "         [ 0.1641,  0.1367,  1.0000,  ..., -0.0964,  0.1053,  0.0524],\n",
       "         ...,\n",
       "         [ 0.1600,  0.0716, -0.0964,  ...,  1.0000,  0.0162,  0.0104],\n",
       "         [ 0.1096, -0.0469,  0.1053,  ...,  0.0162,  1.0000,  0.0533],\n",
       "         [ 0.0022,  0.0827,  0.0524,  ...,  0.0104,  0.0533,  1.0000]]))"
      ]
     },
     "execution_count": 8,
     "metadata": {},
     "output_type": "execute_result"
    }
   ],
   "source": [
    "sim = model.similarity(embeddings, embeddings)\n",
    "sim.shape, sim"
   ]
  },
  {
   "cell_type": "code",
   "execution_count": null,
   "metadata": {
    "colab": {
     "base_uri": "https://localhost:8080/"
    },
    "id": "lGeVxBi1XpU6",
    "outputId": "f3242c4b-31ed-4b7e-b02a-bedeebcc9ab7"
   },
   "outputs": [
    {
     "data": {
      "text/plain": [
       "(100, 2)"
      ]
     },
     "execution_count": 37,
     "metadata": {},
     "output_type": "execute_result"
    }
   ],
   "source": [
    "reduced_embeddings.shape"
   ]
  },
  {
   "cell_type": "markdown",
   "metadata": {
    "id": "XvKmCHJqkcQ6"
   },
   "source": [
    "<h1>2. testing out dimensionality reduction using pca or hdbscan..."
   ]
  },
  {
   "cell_type": "code",
   "execution_count": null,
   "metadata": {
    "id": "HvnDTAiUX10z"
   },
   "outputs": [],
   "source": [
    "#dimensionality reduction using pca\n",
    "from sklearn.decomposition import PCA"
   ]
  },
  {
   "cell_type": "code",
   "execution_count": null,
   "metadata": {
    "id": "BpsK5C-cY5X5"
   },
   "outputs": [],
   "source": [
    "pca = PCA()"
   ]
  },
  {
   "cell_type": "code",
   "execution_count": null,
   "metadata": {
    "colab": {
     "base_uri": "https://localhost:8080/"
    },
    "id": "DwuM6m_4ZJSV",
    "outputId": "2e0a06c9-6040-49b8-f8ea-0e0c93a39402"
   },
   "outputs": [
    {
     "data": {
      "text/plain": [
       "(100, 384)"
      ]
     },
     "execution_count": 11,
     "metadata": {},
     "output_type": "execute_result"
    }
   ],
   "source": [
    "embeddings.shape"
   ]
  },
  {
   "cell_type": "code",
   "execution_count": null,
   "metadata": {
    "colab": {
     "base_uri": "https://localhost:8080/",
     "height": 582
    },
    "id": "5wmuTD0fZJ-d",
    "outputId": "e2a1f9ac-9785-4df9-a8b3-71f3d6c7e37a"
   },
   "outputs": [
    {
     "data": {
      "text/plain": [
       "<matplotlib.legend.Legend at 0x7ab78dcfd650>"
      ]
     },
     "execution_count": 12,
     "metadata": {},
     "output_type": "execute_result"
    },
    {
     "data": {
      "image/png": "[encoded data removed]",
      "text/plain": [
       "<Figure size 1000x600 with 1 Axes>"
      ]
     },
     "metadata": {},
     "output_type": "display_data"
    }
   ],
   "source": [
    "import numpy as np\n",
    "import matplotlib.pyplot as plt\n",
    "\n",
    "pca.fit(embeddings)\n",
    "eigen_vals = pca.explained_variance_\n",
    "cum_var = np.cumsum(eigen_vals)/np.sum(eigen_vals)\n",
    "x_index = np.argmax(cum_var >= 0.9)\n",
    "y_val = cum_var[x_index]\n",
    "\n",
    "plt.figure(figsize=(10,6))\n",
    "plt.plot(range(1,len(eigen_vals)+1), cum_var, marker='o')\n",
    "plt.axhline(y=0.9, color='r', linestyle='--')\n",
    "plt.xlabel('Number of principal components')\n",
    "plt.ylabel('Variance explained')\n",
    "plt.title('Variance explained as number of principal components increases')\n",
    "\n",
    "plt.scatter(y=y_val, x=x_index+1, color='red', zorder=3, label=f'({x_index + 1}, {y_val:.2f})') #need to do x_index+1 because the\n",
    "plt.legend()"
   ]
  },
  {
   "cell_type": "code",
   "execution_count": null,
   "metadata": {
    "colab": {
     "base_uri": "https://localhost:8080/"
    },
    "id": "lwz_N7VlZyLv",
    "outputId": "112d1faf-8e17-480a-c92f-3264af4fa54e"
   },
   "outputs": [
    {
     "data": {
      "text/plain": [
       "(100, 66)"
      ]
     },
     "execution_count": 13,
     "metadata": {},
     "output_type": "execute_result"
    }
   ],
   "source": [
    "pca_66 = PCA(n_components=66)\n",
    "reduced_embeddings = pca_66.fit_transform(embeddings)\n",
    "reduced_embeddings.shape"
   ]
  },
  {
   "cell_type": "code",
   "execution_count": null,
   "metadata": {
    "colab": {
     "base_uri": "https://localhost:8080/",
     "height": 490
    },
    "id": "zsBm1qK2bYDG",
    "outputId": "793881ac-77df-4912-c96c-70b793fceeff"
   },
   "outputs": [
    {
     "data": {
      "text/plain": [
       "Text(0, 0.5, 'dim_2')"
      ]
     },
     "execution_count": 14,
     "metadata": {},
     "output_type": "execute_result"
    },
    {
     "data": {
      "image/png": "[encoded data removed]",
      "text/plain": [
       "<Figure size 640x480 with 1 Axes>"
      ]
     },
     "metadata": {},
     "output_type": "display_data"
    }
   ],
   "source": [
    "plt.scatter(reduced_embeddings[:,0], reduced_embeddings[:,1])\n",
    "plt.title('PCA toy sanity check')\n",
    "plt.xlabel('dim _1')\n",
    "plt.ylabel('dim_2')"
   ]
  },
  {
   "cell_type": "code",
   "execution_count": null,
   "metadata": {
    "id": "Jq_t8TwHbq75"
   },
   "outputs": [],
   "source": [
    "#cluster analysis\n",
    "import hdbscan"
   ]
  },
  {
   "cell_type": "code",
   "execution_count": null,
   "metadata": {
    "colab": {
     "base_uri": "https://localhost:8080/",
     "height": 172
    },
    "id": "XcwoumsZb5Gh",
    "outputId": "8697adeb-c581-462e-c374-2997a6bc55db"
   },
   "outputs": [
    {
     "name": "stderr",
     "output_type": "stream",
     "text": [
      "/usr/local/lib/python3.11/dist-packages/sklearn/utils/deprecation.py:151: FutureWarning: 'force_all_finite' was renamed to 'ensure_all_finite' in 1.6 and will be removed in 1.8.\n",
      "  warnings.warn(\n",
      "/usr/local/lib/python3.11/dist-packages/sklearn/utils/deprecation.py:151: FutureWarning: 'force_all_finite' was renamed to 'ensure_all_finite' in 1.6 and will be removed in 1.8.\n",
      "  warnings.warn(\n"
     ]
    },
    {
     "data": {
      "text/html": [
       "<style>#sk-container-id-1 {\n",
       "  /* Definition of color scheme common for light and dark mode */\n",
       "  --sklearn-color-text: #000;\n",
       "  --sklearn-color-text-muted: #666;\n",
       "  --sklearn-color-line: gray;\n",
       "  /* Definition of color scheme for unfitted estimators */\n",
       "  --sklearn-color-unfitted-level-0: #fff5e6;\n",
       "  --sklearn-color-unfitted-level-1: #f6e4d2;\n",
       "  --sklearn-color-unfitted-level-2: #ffe0b3;\n",
       "  --sklearn-color-unfitted-level-3: chocolate;\n",
       "  /* Definition of color scheme for fitted estimators */\n",
       "  --sklearn-color-fitted-level-0: #f0f8ff;\n",
       "  --sklearn-color-fitted-level-1: #d4ebff;\n",
       "  --sklearn-color-fitted-level-2: #b3dbfd;\n",
       "  --sklearn-color-fitted-level-3: cornflowerblue;\n",
       "\n",
       "  /* Specific color for light theme */\n",
       "  --sklearn-color-text-on-default-background: var(--sg-text-color, var(--theme-code-foreground, var(--jp-content-font-color1, black)));\n",
       "  --sklearn-color-background: var(--sg-background-color, var(--theme-background, var(--jp-layout-color0, white)));\n",
       "  --sklearn-color-border-box: var(--sg-text-color, var(--theme-code-foreground, var(--jp-content-font-color1, black)));\n",
       "  --sklearn-color-icon: #696969;\n",
       "\n",
       "  @media (prefers-color-scheme: dark) {\n",
       "    /* Redefinition of color scheme for dark theme */\n",
       "    --sklearn-color-text-on-default-background: var(--sg-text-color, var(--theme-code-foreground, var(--jp-content-font-color1, white)));\n",
       "    --sklearn-color-background: var(--sg-background-color, var(--theme-background, var(--jp-layout-color0, #111)));\n",
       "    --sklearn-color-border-box: var(--sg-text-color, var(--theme-code-foreground, var(--jp-content-font-color1, white)));\n",
       "    --sklearn-color-icon: #878787;\n",
       "  }\n",
       "}\n",
       "\n",
       "#sk-container-id-1 {\n",
       "  color: var(--sklearn-color-text);\n",
       "}\n",
       "\n",
       "#sk-container-id-1 pre {\n",
       "  padding: 0;\n",
       "}\n",
       "\n",
       "#sk-container-id-1 input.sk-hidden--visually {\n",
       "  border: 0;\n",
       "  clip: rect(1px 1px 1px 1px);\n",
       "  clip: rect(1px, 1px, 1px, 1px);\n",
       "  height: 1px;\n",
       "  margin: -1px;\n",
       "  overflow: hidden;\n",
       "  padding: 0;\n",
       "  position: absolute;\n",
       "  width: 1px;\n",
       "}\n",
       "\n",
       "#sk-container-id-1 div.sk-dashed-wrapped {\n",
       "  border: 1px dashed var(--sklearn-color-line);\n",
       "  margin: 0 0.4em 0.5em 0.4em;\n",
       "  box-sizing: border-box;\n",
       "  padding-bottom: 0.4em;\n",
       "  background-color: var(--sklearn-color-background);\n",
       "}\n",
       "\n",
       "#sk-container-id-1 div.sk-container {\n",
       "  /* jupyter's `normalize.less` sets `[hidden] { display: none; }`\n",
       "     but bootstrap.min.css set `[hidden] { display: none !important; }`\n",
       "     so we also need the `!important` here to be able to override the\n",
       "     default hidden behavior on the sphinx rendered scikit-learn.org.\n",
       "     See: https://github.com/scikit-learn/scikit-learn/issues/21755 */\n",
       "  display: inline-block !important;\n",
       "  position: relative;\n",
       "}\n",
       "\n",
       "#sk-container-id-1 div.sk-text-repr-fallback {\n",
       "  display: none;\n",
       "}\n",
       "\n",
       "div.sk-parallel-item,\n",
       "div.sk-serial,\n",
       "div.sk-item {\n",
       "  /* draw centered vertical line to link estimators */\n",
       "  background-image: linear-gradient(var(--sklearn-color-text-on-default-background), var(--sklearn-color-text-on-default-background));\n",
       "  background-size: 2px 100%;\n",
       "  background-repeat: no-repeat;\n",
       "  background-position: center center;\n",
       "}\n",
       "\n",
       "/* Parallel-specific style estimator block */\n",
       "\n",
       "#sk-container-id-1 div.sk-parallel-item::after {\n",
       "  content: \"\";\n",
       "  width: 100%;\n",
       "  border-bottom: 2px solid var(--sklearn-color-text-on-default-background);\n",
       "  flex-grow: 1;\n",
       "}\n",
       "\n",
       "#sk-container-id-1 div.sk-parallel {\n",
       "  display: flex;\n",
       "  align-items: stretch;\n",
       "  justify-content: center;\n",
       "  background-color: var(--sklearn-color-background);\n",
       "  position: relative;\n",
       "}\n",
       "\n",
       "#sk-container-id-1 div.sk-parallel-item {\n",
       "  display: flex;\n",
       "  flex-direction: column;\n",
       "}\n",
       "\n",
       "#sk-container-id-1 div.sk-parallel-item:first-child::after {\n",
       "  align-self: flex-end;\n",
       "  width: 50%;\n",
       "}\n",
       "\n",
       "#sk-container-id-1 div.sk-parallel-item:last-child::after {\n",
       "  align-self: flex-start;\n",
       "  width: 50%;\n",
       "}\n",
       "\n",
       "#sk-container-id-1 div.sk-parallel-item:only-child::after {\n",
       "  width: 0;\n",
       "}\n",
       "\n",
       "/* Serial-specific style estimator block */\n",
       "\n",
       "#sk-container-id-1 div.sk-serial {\n",
       "  display: flex;\n",
       "  flex-direction: column;\n",
       "  align-items: center;\n",
       "  background-color: var(--sklearn-color-background);\n",
       "  padding-right: 1em;\n",
       "  padding-left: 1em;\n",
       "}\n",
       "\n",
       "\n",
       "/* Toggleable style: style used for estimator/Pipeline/ColumnTransformer box that is\n",
       "clickable and can be expanded/collapsed.\n",
       "- Pipeline and ColumnTransformer use this feature and define the default style\n",
       "- Estimators will overwrite some part of the style using the `sk-estimator` class\n",
       "*/\n",
       "\n",
       "/* Pipeline and ColumnTransformer style (default) */\n",
       "\n",
       "#sk-container-id-1 div.sk-toggleable {\n",
       "  /* Default theme specific background. It is overwritten whether we have a\n",
       "  specific estimator or a Pipeline/ColumnTransformer */\n",
       "  background-color: var(--sklearn-color-background);\n",
       "}\n",
       "\n",
       "/* Toggleable label */\n",
       "#sk-container-id-1 label.sk-toggleable__label {\n",
       "  cursor: pointer;\n",
       "  display: flex;\n",
       "  width: 100%;\n",
       "  margin-bottom: 0;\n",
       "  padding: 0.5em;\n",
       "  box-sizing: border-box;\n",
       "  text-align: center;\n",
       "  align-items: start;\n",
       "  justify-content: space-between;\n",
       "  gap: 0.5em;\n",
       "}\n",
       "\n",
       "#sk-container-id-1 label.sk-toggleable__label .caption {\n",
       "  font-size: 0.6rem;\n",
       "  font-weight: lighter;\n",
       "  color: var(--sklearn-color-text-muted);\n",
       "}\n",
       "\n",
       "#sk-container-id-1 label.sk-toggleable__label-arrow:before {\n",
       "  /* Arrow on the left of the label */\n",
       "  content: \"▸\";\n",
       "  float: left;\n",
       "  margin-right: 0.25em;\n",
       "  color: var(--sklearn-color-icon);\n",
       "}\n",
       "\n",
       "#sk-container-id-1 label.sk-toggleable__label-arrow:hover:before {\n",
       "  color: var(--sklearn-color-text);\n",
       "}\n",
       "\n",
       "/* Toggleable content - dropdown */\n",
       "\n",
       "#sk-container-id-1 div.sk-toggleable__content {\n",
       "  max-height: 0;\n",
       "  max-width: 0;\n",
       "  overflow: hidden;\n",
       "  text-align: left;\n",
       "  /* unfitted */\n",
       "  background-color: var(--sklearn-color-unfitted-level-0);\n",
       "}\n",
       "\n",
       "#sk-container-id-1 div.sk-toggleable__content.fitted {\n",
       "  /* fitted */\n",
       "  background-color: var(--sklearn-color-fitted-level-0);\n",
       "}\n",
       "\n",
       "#sk-container-id-1 div.sk-toggleable__content pre {\n",
       "  margin: 0.2em;\n",
       "  border-radius: 0.25em;\n",
       "  color: var(--sklearn-color-text);\n",
       "  /* unfitted */\n",
       "  background-color: var(--sklearn-color-unfitted-level-0);\n",
       "}\n",
       "\n",
       "#sk-container-id-1 div.sk-toggleable__content.fitted pre {\n",
       "  /* unfitted */\n",
       "  background-color: var(--sklearn-color-fitted-level-0);\n",
       "}\n",
       "\n",
       "#sk-container-id-1 input.sk-toggleable__control:checked~div.sk-toggleable__content {\n",
       "  /* Expand drop-down */\n",
       "  max-height: 200px;\n",
       "  max-width: 100%;\n",
       "  overflow: auto;\n",
       "}\n",
       "\n",
       "#sk-container-id-1 input.sk-toggleable__control:checked~label.sk-toggleable__label-arrow:before {\n",
       "  content: \"▾\";\n",
       "}\n",
       "\n",
       "/* Pipeline/ColumnTransformer-specific style */\n",
       "\n",
       "#sk-container-id-1 div.sk-label input.sk-toggleable__control:checked~label.sk-toggleable__label {\n",
       "  color: var(--sklearn-color-text);\n",
       "  background-color: var(--sklearn-color-unfitted-level-2);\n",
       "}\n",
       "\n",
       "#sk-container-id-1 div.sk-label.fitted input.sk-toggleable__control:checked~label.sk-toggleable__label {\n",
       "  background-color: var(--sklearn-color-fitted-level-2);\n",
       "}\n",
       "\n",
       "/* Estimator-specific style */\n",
       "\n",
       "/* Colorize estimator box */\n",
       "#sk-container-id-1 div.sk-estimator input.sk-toggleable__control:checked~label.sk-toggleable__label {\n",
       "  /* unfitted */\n",
       "  background-color: var(--sklearn-color-unfitted-level-2);\n",
       "}\n",
       "\n",
       "#sk-container-id-1 div.sk-estimator.fitted input.sk-toggleable__control:checked~label.sk-toggleable__label {\n",
       "  /* fitted */\n",
       "  background-color: var(--sklearn-color-fitted-level-2);\n",
       "}\n",
       "\n",
       "#sk-container-id-1 div.sk-label label.sk-toggleable__label,\n",
       "#sk-container-id-1 div.sk-label label {\n",
       "  /* The background is the default theme color */\n",
       "  color: var(--sklearn-color-text-on-default-background);\n",
       "}\n",
       "\n",
       "/* On hover, darken the color of the background */\n",
       "#sk-container-id-1 div.sk-label:hover label.sk-toggleable__label {\n",
       "  color: var(--sklearn-color-text);\n",
       "  background-color: var(--sklearn-color-unfitted-level-2);\n",
       "}\n",
       "\n",
       "/* Label box, darken color on hover, fitted */\n",
       "#sk-container-id-1 div.sk-label.fitted:hover label.sk-toggleable__label.fitted {\n",
       "  color: var(--sklearn-color-text);\n",
       "  background-color: var(--sklearn-color-fitted-level-2);\n",
       "}\n",
       "\n",
       "/* Estimator label */\n",
       "\n",
       "#sk-container-id-1 div.sk-label label {\n",
       "  font-family: monospace;\n",
       "  font-weight: bold;\n",
       "  display: inline-block;\n",
       "  line-height: 1.2em;\n",
       "}\n",
       "\n",
       "#sk-container-id-1 div.sk-label-container {\n",
       "  text-align: center;\n",
       "}\n",
       "\n",
       "/* Estimator-specific */\n",
       "#sk-container-id-1 div.sk-estimator {\n",
       "  font-family: monospace;\n",
       "  border: 1px dotted var(--sklearn-color-border-box);\n",
       "  border-radius: 0.25em;\n",
       "  box-sizing: border-box;\n",
       "  margin-bottom: 0.5em;\n",
       "  /* unfitted */\n",
       "  background-color: var(--sklearn-color-unfitted-level-0);\n",
       "}\n",
       "\n",
       "#sk-container-id-1 div.sk-estimator.fitted {\n",
       "  /* fitted */\n",
       "  background-color: var(--sklearn-color-fitted-level-0);\n",
       "}\n",
       "\n",
       "/* on hover */\n",
       "#sk-container-id-1 div.sk-estimator:hover {\n",
       "  /* unfitted */\n",
       "  background-color: var(--sklearn-color-unfitted-level-2);\n",
       "}\n",
       "\n",
       "#sk-container-id-1 div.sk-estimator.fitted:hover {\n",
       "  /* fitted */\n",
       "  background-color: var(--sklearn-color-fitted-level-2);\n",
       "}\n",
       "\n",
       "/* Specification for estimator info (e.g. \"i\" and \"?\") */\n",
       "\n",
       "/* Common style for \"i\" and \"?\" */\n",
       "\n",
       ".sk-estimator-doc-link,\n",
       "a:link.sk-estimator-doc-link,\n",
       "a:visited.sk-estimator-doc-link {\n",
       "  float: right;\n",
       "  font-size: smaller;\n",
       "  line-height: 1em;\n",
       "  font-family: monospace;\n",
       "  background-color: var(--sklearn-color-background);\n",
       "  border-radius: 1em;\n",
       "  height: 1em;\n",
       "  width: 1em;\n",
       "  text-decoration: none !important;\n",
       "  margin-left: 0.5em;\n",
       "  text-align: center;\n",
       "  /* unfitted */\n",
       "  border: var(--sklearn-color-unfitted-level-1) 1pt solid;\n",
       "  color: var(--sklearn-color-unfitted-level-1);\n",
       "}\n",
       "\n",
       ".sk-estimator-doc-link.fitted,\n",
       "a:link.sk-estimator-doc-link.fitted,\n",
       "a:visited.sk-estimator-doc-link.fitted {\n",
       "  /* fitted */\n",
       "  border: var(--sklearn-color-fitted-level-1) 1pt solid;\n",
       "  color: var(--sklearn-color-fitted-level-1);\n",
       "}\n",
       "\n",
       "/* On hover */\n",
       "div.sk-estimator:hover .sk-estimator-doc-link:hover,\n",
       ".sk-estimator-doc-link:hover,\n",
       "div.sk-label-container:hover .sk-estimator-doc-link:hover,\n",
       ".sk-estimator-doc-link:hover {\n",
       "  /* unfitted */\n",
       "  background-color: var(--sklearn-color-unfitted-level-3);\n",
       "  color: var(--sklearn-color-background);\n",
       "  text-decoration: none;\n",
       "}\n",
       "\n",
       "div.sk-estimator.fitted:hover .sk-estimator-doc-link.fitted:hover,\n",
       ".sk-estimator-doc-link.fitted:hover,\n",
       "div.sk-label-container:hover .sk-estimator-doc-link.fitted:hover,\n",
       ".sk-estimator-doc-link.fitted:hover {\n",
       "  /* fitted */\n",
       "  background-color: var(--sklearn-color-fitted-level-3);\n",
       "  color: var(--sklearn-color-background);\n",
       "  text-decoration: none;\n",
       "}\n",
       "\n",
       "/* Span, style for the box shown on hovering the info icon */\n",
       ".sk-estimator-doc-link span {\n",
       "  display: none;\n",
       "  z-index: 9999;\n",
       "  position: relative;\n",
       "  font-weight: normal;\n",
       "  right: .2ex;\n",
       "  padding: .5ex;\n",
       "  margin: .5ex;\n",
       "  width: min-content;\n",
       "  min-width: 20ex;\n",
       "  max-width: 50ex;\n",
       "  color: var(--sklearn-color-text);\n",
       "  box-shadow: 2pt 2pt 4pt #999;\n",
       "  /* unfitted */\n",
       "  background: var(--sklearn-color-unfitted-level-0);\n",
       "  border: .5pt solid var(--sklearn-color-unfitted-level-3);\n",
       "}\n",
       "\n",
       ".sk-estimator-doc-link.fitted span {\n",
       "  /* fitted */\n",
       "  background: var(--sklearn-color-fitted-level-0);\n",
       "  border: var(--sklearn-color-fitted-level-3);\n",
       "}\n",
       "\n",
       ".sk-estimator-doc-link:hover span {\n",
       "  display: block;\n",
       "}\n",
       "\n",
       "/* \"?\"-specific style due to the `<a>` HTML tag */\n",
       "\n",
       "#sk-container-id-1 a.estimator_doc_link {\n",
       "  float: right;\n",
       "  font-size: 1rem;\n",
       "  line-height: 1em;\n",
       "  font-family: monospace;\n",
       "  background-color: var(--sklearn-color-background);\n",
       "  border-radius: 1rem;\n",
       "  height: 1rem;\n",
       "  width: 1rem;\n",
       "  text-decoration: none;\n",
       "  /* unfitted */\n",
       "  color: var(--sklearn-color-unfitted-level-1);\n",
       "  border: var(--sklearn-color-unfitted-level-1) 1pt solid;\n",
       "}\n",
       "\n",
       "#sk-container-id-1 a.estimator_doc_link.fitted {\n",
       "  /* fitted */\n",
       "  border: var(--sklearn-color-fitted-level-1) 1pt solid;\n",
       "  color: var(--sklearn-color-fitted-level-1);\n",
       "}\n",
       "\n",
       "/* On hover */\n",
       "#sk-container-id-1 a.estimator_doc_link:hover {\n",
       "  /* unfitted */\n",
       "  background-color: var(--sklearn-color-unfitted-level-3);\n",
       "  color: var(--sklearn-color-background);\n",
       "  text-decoration: none;\n",
       "}\n",
       "\n",
       "#sk-container-id-1 a.estimator_doc_link.fitted:hover {\n",
       "  /* fitted */\n",
       "  background-color: var(--sklearn-color-fitted-level-3);\n",
       "}\n",
       "</style><div id=\"sk-container-id-1\" class=\"sk-top-container\"><div class=\"sk-text-repr-fallback\"><pre>HDBSCAN(gen_min_span_tree=True, min_cluster_size=15)</pre><b>In a Jupyter environment, please rerun this cell to show the HTML representation or trust the notebook. <br />On GitHub, the HTML representation is unable to render, please try loading this page with nbviewer.org.</b></div><div class=\"sk-container\" hidden><div class=\"sk-item\"><div class=\"sk-estimator fitted sk-toggleable\"><input class=\"sk-toggleable__control sk-hidden--visually\" id=\"sk-estimator-id-1\" type=\"checkbox\" checked><label for=\"sk-estimator-id-1\" class=\"sk-toggleable__label fitted sk-toggleable__label-arrow\"><div><div>HDBSCAN</div></div><div><span class=\"sk-estimator-doc-link fitted\">i<span>Fitted</span></span></div></label><div class=\"sk-toggleable__content fitted\"><pre>HDBSCAN(gen_min_span_tree=True, min_cluster_size=15)</pre></div> </div></div></div></div>"
      ],
      "text/plain": [
       "HDBSCAN(gen_min_span_tree=True, min_cluster_size=15)"
      ]
     },
     "execution_count": 18,
     "metadata": {},
     "output_type": "execute_result"
    }
   ],
   "source": [
    "clusterer = hdbscan.HDBSCAN(min_cluster_size=15, gen_min_span_tree=True)\n",
    "clusterer.fit(reduced_embeddings[:,:2])"
   ]
  },
  {
   "cell_type": "code",
   "execution_count": null,
   "metadata": {
    "colab": {
     "base_uri": "https://localhost:8080/",
     "height": 424
    },
    "id": "r_wwgTgUcFqG",
    "outputId": "43671df5-8cf2-471a-b853-13042958f40f"
   },
   "outputs": [
    {
     "data": {
      "text/plain": [
       "<Axes: >"
      ]
     },
     "execution_count": 19,
     "metadata": {},
     "output_type": "execute_result"
    },
    {
     "data": {
      "image/png": "[encoded data removed]",
      "text/plain": [
       "<Figure size 640x480 with 2 Axes>"
      ]
     },
     "metadata": {},
     "output_type": "display_data"
    }
   ],
   "source": [
    "clusterer.minimum_spanning_tree_.plot(edge_cmap='viridis',\n",
    "                                      edge_alpha=0.6,\n",
    "                                      node_size=10,\n",
    "                                      edge_linewidth=2)"
   ]
  },
  {
   "cell_type": "markdown",
   "metadata": {
    "id": "BGIKfb24coyo"
   },
   "source": [
    "how hdbscan works\n",
    "- consider lower density points as the 'sea'\n",
    "- mutual reachability distance as the distance metric between points\n",
    "- mrd between points is max(dist_between_a_b, core_dist_a, cord_dist_b), where core_dist is the radius of circle to create cluster of min_num points\n",
    "- higher mrd means more sparse and further apart\n",
    "- min_cluster_size as the min num points to create a cluster (constitutes the core distance)\n",
    "- mrd as the distance metric\n",
    "- based on mrd, build a minimum spanning tree\n",
    "- recall that mst is the <b>subset of edges of a connected, edge-weighted undirected graph that connects all vertices together without any cycles and with the minimum possible total edge weight</b>"
   ]
  },
  {
   "cell_type": "code",
   "execution_count": null,
   "metadata": {
    "colab": {
     "base_uri": "https://localhost:8080/",
     "height": 450
    },
    "id": "zot3zqQ5cOvl",
    "outputId": "593ae65f-b487-431a-d487-3cc42a5784d0"
   },
   "outputs": [
    {
     "data": {
      "text/plain": [
       "<matplotlib.collections.PathCollection at 0x7ab78db06450>"
      ]
     },
     "execution_count": 20,
     "metadata": {},
     "output_type": "execute_result"
    },
    {
     "data": {
      "image/png": "[encoded data removed]",
      "text/plain": [
       "<Figure size 640x480 with 1 Axes>"
      ]
     },
     "metadata": {},
     "output_type": "display_data"
    }
   ],
   "source": [
    "import seaborn as sns\n",
    "\n",
    "palette = sns.color_palette()\n",
    "cluster_colors = [sns.desaturate(palette[col], sat)\n",
    "                  if col >= 0 else (0.5, 0.5, 0.5) for col, sat in\n",
    "                  zip(clusterer.labels_, clusterer.probabilities_)]\n",
    "plt.scatter(reduced_embeddings[:,0], reduced_embeddings[:,1], c=cluster_colors)"
   ]
  },
  {
   "cell_type": "code",
   "execution_count": null,
   "metadata": {
    "colab": {
     "base_uri": "https://localhost:8080/"
    },
    "id": "6qtXfM-2ix-G",
    "outputId": "603fe969-a5f7-49e8-a6ae-57f436b9d5ab"
   },
   "outputs": [
    {
     "data": {
      "text/plain": [
       "array([-1,  1, -1,  1,  1,  1,  1, -1, -1,  0, -1,  0,  0,  1, -1, -1,  1,\n",
       "       -1,  0,  1,  1,  1,  1,  1, -1,  1,  0,  1, -1,  0,  1,  0,  1, -1,\n",
       "        1,  1,  1,  0, -1,  0,  1,  1,  0,  1, -1, -1,  1,  1,  1,  1,  1,\n",
       "        1,  0, -1,  1, -1,  0,  1,  0,  1, -1,  1,  1,  1, -1, -1, -1,  0,\n",
       "        1,  1,  1,  0,  1,  1,  0, -1, -1,  1, -1, -1,  1,  1,  1, -1, -1,\n",
       "        0,  0,  0, -1,  0, -1,  0,  0, -1, -1,  1,  1, -1, -1,  1])"
      ]
     },
     "execution_count": 21,
     "metadata": {},
     "output_type": "execute_result"
    }
   ],
   "source": [
    "clusterer.labels_"
   ]
  },
  {
   "cell_type": "code",
   "execution_count": null,
   "metadata": {
    "colab": {
     "base_uri": "https://localhost:8080/"
    },
    "id": "fPXzA6FxjGl6",
    "outputId": "f20cc389-e78b-4971-a803-9ad4b07561c7"
   },
   "outputs": [
    {
     "data": {
      "text/plain": [
       "(100,)"
      ]
     },
     "execution_count": 22,
     "metadata": {},
     "output_type": "execute_result"
    }
   ],
   "source": [
    "clusterer.probabilities_.shape"
   ]
  },
  {
   "cell_type": "code",
   "execution_count": null,
   "metadata": {
    "id": "oEvH0RHZfaYp"
   },
   "outputs": [],
   "source": [
    "#tokenize topics to get topic representation\n",
    "from sklearn.feature_extraction.text import CountVectorizer\n",
    "vectorizer_model = CountVectorizer(stop_words=\"english\")"
   ]
  },
  {
   "cell_type": "code",
   "execution_count": null,
   "metadata": {
    "colab": {
     "base_uri": "https://localhost:8080/"
    },
    "id": "3KHZ_XDAf-xH",
    "outputId": "4c6c95c1-ed7f-4ca0-f985-e345cbd81ca9"
   },
   "outputs": [
    {
     "data": {
      "text/plain": [
       "array(['soccer', 'social', 'socialist', 'society', 'socket', 'sockets',\n",
       "       'sod', 'soda', 'soft', 'softimage'], dtype=object)"
      ]
     },
     "execution_count": 24,
     "metadata": {},
     "output_type": "execute_result"
    }
   ],
   "source": [
    "X = vectorizer_model.fit_transform(docs[:100])\n",
    "vectorizer_model.get_feature_names_out()[4000:4010]"
   ]
  },
  {
   "cell_type": "code",
   "execution_count": null,
   "metadata": {
    "colab": {
     "base_uri": "https://localhost:8080/"
    },
    "id": "4_-1Rf96gjxE",
    "outputId": "c4ba8b6a-df3e-4949-f762-93481c9e7760"
   },
   "outputs": [
    {
     "data": {
      "text/plain": [
       "(100, 4717)"
      ]
     },
     "execution_count": 25,
     "metadata": {},
     "output_type": "execute_result"
    }
   ],
   "source": [
    "X.toarray().shape"
   ]
  },
  {
   "cell_type": "code",
   "execution_count": null,
   "metadata": {
    "colab": {
     "base_uri": "https://localhost:8080/"
    },
    "id": "eRp6aoHohI2u",
    "outputId": "06c2d6ea-fc63-46ee-e239-92522ba591f9"
   },
   "outputs": [
    {
     "data": {
      "text/plain": [
       "list"
      ]
     },
     "execution_count": 27,
     "metadata": {},
     "output_type": "execute_result"
    }
   ],
   "source": [
    "doc_clusters = create_doc_clusters(docs[:100], clusterer.labels_)\n",
    "type(doc_clusters[-1]) #doc_clusters value is a list of str, with each str being  a doc"
   ]
  },
  {
   "cell_type": "code",
   "execution_count": null,
   "metadata": {
    "id": "Ejiu_hrhpdWK"
   },
   "outputs": [],
   "source": [
    "word_freq_mats = {}\n",
    "vocabs = {}\n",
    "word_to_id_dicts = {}\n",
    "id_to_word_dicts = {}\n",
    "\n",
    "for key, value in doc_clusters.items():\n",
    "  word_freq_mat, vocab, word_to_id, id_to_word = create_vocab(value)\n",
    "  word_freq_mats[key] = word_freq_mat\n",
    "  vocabs[key] = vocab\n",
    "  word_to_id_dicts[key] = word_to_id\n",
    "  id_to_word_dicts[key] = id_to_word"
   ]
  },
  {
   "cell_type": "code",
   "execution_count": null,
   "metadata": {
    "colab": {
     "base_uri": "https://localhost:8080/"
    },
    "id": "5me4OBVKqtI0",
    "outputId": "ffeab6a3-051a-4b5b-ede5-9408af3f839e"
   },
   "outputs": [
    {
     "name": "stdout",
     "output_type": "stream",
     "text": [
      "-1 (32, 2024)\n",
      "-1 2024\n",
      "-1 2024\n",
      "-1 2024\n",
      "0 (22, 1762)\n",
      "0 1762\n",
      "0 1762\n",
      "0 1762\n",
      "1 (46, 1889)\n",
      "1 1889\n",
      "1 1889\n",
      "1 1889\n"
     ]
    }
   ],
   "source": [
    "#sanity check\n",
    "for key, val in vocabs.items():\n",
    "  print(key, word_freq_mats[key].shape)\n",
    "  print(key, len(val))\n",
    "  print(key, len(word_to_id_dicts[key]))\n",
    "  print(key, len(id_to_word_dicts[key]))\n",
    "\n",
    "#need to create word_to_id and id_to_word dicts"
   ]
  },
  {
   "cell_type": "code",
   "execution_count": null,
   "metadata": {
    "id": "GLBwLqG6ZwK3"
   },
   "outputs": [],
   "source": [
    "top_100_words = [id_to_word_dicts[-1][token_id] for token_id in top_100_token_ids]"
   ]
  },
  {
   "cell_type": "code",
   "execution_count": null,
   "metadata": {
    "colab": {
     "base_uri": "https://localhost:8080/"
    },
    "collapsed": true,
    "id": "bFBPH2EkZ-ft",
    "outputId": "7bf7f20d-d042-4815-ffed-033b5a5e03b6"
   },
   "outputs": [
    {
     "data": {
      "text/plain": [
       "['1062',\n",
       " '1221',\n",
       " '132',\n",
       " '07748',\n",
       " '13',\n",
       " '0362',\n",
       " '1040',\n",
       " '01',\n",
       " '1326',\n",
       " '1353',\n",
       " '1369',\n",
       " '14',\n",
       " '139',\n",
       " '1267',\n",
       " '124',\n",
       " '1232',\n",
       " '1239',\n",
       " '1229',\n",
       " '1219',\n",
       " '1212',\n",
       " '1210',\n",
       " '1201',\n",
       " '120',\n",
       " '12',\n",
       " '135',\n",
       " '1281',\n",
       " '1280x1024x256',\n",
       " '1280x1024',\n",
       " '1410',\n",
       " '11530',\n",
       " '1170',\n",
       " '1174',\n",
       " '1190',\n",
       " '1192',\n",
       " '1130',\n",
       " '1122',\n",
       " '1126',\n",
       " '11',\n",
       " '10th',\n",
       " '108',\n",
       " '1099',\n",
       " '111s',\n",
       " '1107',\n",
       " '1103',\n",
       " '1121',\n",
       " '1046',\n",
       " '1049',\n",
       " '1052',\n",
       " '1069',\n",
       " '1018',\n",
       " '1036',\n",
       " '1021',\n",
       " '102',\n",
       " '10',\n",
       " '100',\n",
       " '1006',\n",
       " '02238',\n",
       " '0111',\n",
       " '0002',\n",
       " '000',\n",
       " '00']"
      ]
     },
     "execution_count": 74,
     "metadata": {},
     "output_type": "execute_result"
    }
   ],
   "source": [
    "top_100_words"
   ]
  },
  {
   "cell_type": "code",
   "execution_count": null,
   "metadata": {
    "colab": {
     "base_uri": "https://localhost:8080/"
    },
    "id": "94hDv2ECos8S",
    "outputId": "74f3dea9-c4f2-4a43-e981-3d9e718895c2"
   },
   "outputs": [
    {
     "name": "stdout",
     "output_type": "stream",
     "text": [
      "para_1 done\n",
      "para_2 done\n",
      "para_3 done\n",
      "para_4 done\n",
      "para_5 done\n",
      "para_6 done\n",
      "para_7 done\n",
      "para_8 done\n",
      "para_9 done\n",
      "para_10 done\n"
     ]
    }
   ],
   "source": [
    "word_freq_mats, vocabs, word_to_id_dict, id_to_word_dict = {},{},{},{}\n",
    "for idx, para in enumerate(paras):\n",
    "  key = f'para_{idx+1}'\n",
    "  print(key, end=' ')\n",
    "  word_freq_mats[key], vocabs[key], word_to_id_dict[key], id_to_word_dict[key] = create_vocab(para)\n",
    "  print('done')"
   ]
  },
  {
   "cell_type": "code",
   "execution_count": null,
   "metadata": {
    "colab": {
     "base_uri": "https://localhost:8080/"
    },
    "id": "RCToeR5xjMTo",
    "outputId": "aca81671-0244-41cb-a2e6-cf31e914286a"
   },
   "outputs": [
    {
     "name": "stdout",
     "output_type": "stream",
     "text": [
      "para_1\n",
      "['information', 'privacy', 'society', 'value', 'moral']\n",
      "\n",
      "para_2\n",
      "['agency', 'ai', 'action', 'responsibility', 'outcomes']\n",
      "\n",
      "para_3\n",
      "['matrix', 'document', 'represents', 'sparse', 'word']\n",
      "\n",
      "para_4\n",
      "['moral', 'right', 'value', 'interests', 'privacy']\n",
      "\n",
      "para_5\n",
      "['responsibility', 'causal', 'legal', 'proximate', 'moral']\n",
      "\n",
      "para_6\n",
      "['responsibility', 'legal', 'state', 'object', 'space']\n",
      "\n",
      "para_7\n",
      "['responsible', 'agents', 'ai', 'agency', 'systems']\n",
      "\n",
      "para_8\n",
      "['action', 'free', 'execute', 'intentional', 'agent']\n",
      "\n",
      "para_9\n",
      "['sort', 'algorithms', 'sorting', 'notes', 'indirect']\n",
      "\n",
      "para_10\n",
      "['fields', 'specified', 'option', 'mergesort', 'stable']\n",
      "\n"
     ]
    }
   ],
   "source": [
    "for idx, para in enumerate(paras):\n",
    "  key = f'para_{idx+1}'\n",
    "  print(key)\n",
    "  token_ids, words = tfidf_selection(5, word_freq_mats[key], id_to_word_dict[key])\n",
    "  print(words)\n",
    "  print()"
   ]
  },
  {
   "cell_type": "markdown",
   "metadata": {
    "id": "TkusD6oBzALi"
   },
   "source": [
    "<h1>3. this is the important part</h1>\n",
    "integrated (i) sentence_transformer embeddings, (ii) dimensionality reduction using opt pca, (iii) clustering with hdb scan (using min_points=2), (iv) tfidf selection to generate topic representation"
   ]
  },
  {
   "cell_type": "code",
   "execution_count": null,
   "metadata": {
    "id": "l59A7eWtFvvg"
   },
   "outputs": [],
   "source": [
    "from sentence_transformers import SentenceTransformer\n",
    "from sklearn.decomposition import PCA\n",
    "import numpy as np\n",
    "import matplotlib.pyplot as plt\n",
    "import hdbscan\n",
    "import seaborn as sns\n",
    "from sklearn.feature_extraction.text import TfidfTransformer\n",
    "from sklearn.feature_extraction.text import CountVectorizer\n",
    "from scipy.spatial import distance"
   ]
  },
  {
   "cell_type": "code",
   "execution_count": null,
   "metadata": {
    "colab": {
     "base_uri": "https://localhost:8080/"
    },
    "id": "aBXiwpBzVgj1",
    "outputId": "2df0e3f7-7a7e-470c-8989-adace0f57560"
   },
   "outputs": [
    {
     "data": {
      "text/plain": [
       "(669, 720)"
      ]
     },
     "execution_count": 2,
     "metadata": {},
     "output_type": "execute_result"
    }
   ],
   "source": [
    "batch_1 = []\n",
    "for i in range(1,8):\n",
    "  with open(f'day{i}_pages1_3.txt', 'r') as text_file:\n",
    "    for line in text_file:\n",
    "      batch_1.append(line)\n",
    "\n",
    "batch_2 = []\n",
    "for i in range(7,15):\n",
    "  with open(f'day{i}_pages1_3.txt', 'r') as text_file:\n",
    "    for line in text_file:\n",
    "      batch_2.append(line)\n",
    "\n",
    "len(batch_1), len(batch_2)"
   ]
  },
  {
   "cell_type": "code",
   "execution_count": null,
   "metadata": {
    "colab": {
     "base_uri": "https://localhost:8080/",
     "height": 67,
     "referenced_widgets": [
      "f4f4c37baa9a44ddaeeafe7261e4845b",
      "78633242a0cf44168985c1280413ccf4",
      "67366a0cf56c4afd90bda4d739d019c4",
      "f59fdc2074394d92a6f78eebe01c87d0",
      "3d1a2daa15a7489793a2c35196480d48",
      "9e812732704d44d98c3bea30c687a0ac",
      "5435d6c6619244698c002a7ff9d7b708",
      "9e18c213ed3246bf956d018c974b2391",
      "f4864fbdc51d4568a81574b09f48880c",
      "fe2f08bef69c43ccb389c04d4e9df516",
      "2d7328594f7c4e2ab1f69f361887f45d"
     ]
    },
    "id": "rktfQWz4lLpq",
    "outputId": "6d685052-a872-46a5-a066-9a881a1157ca"
   },
   "outputs": [
    {
     "data": {
      "application/vnd.jupyter.widget-view+json": {
       "model_id": "f4f4c37baa9a44ddaeeafe7261e4845b",
       "version_major": 2,
       "version_minor": 0
      },
      "text/plain": [
       "Batches:   0%|          | 0/21 [00:00<?, ?it/s]"
      ]
     },
     "metadata": {},
     "output_type": "display_data"
    },
    {
     "data": {
      "text/plain": [
       "(669, 768)"
      ]
     },
     "execution_count": 5,
     "metadata": {},
     "output_type": "execute_result"
    }
   ],
   "source": [
    "#option 1: use hkunlp/instructor-base, this seems to be the best so far, took 8min for 250 articles for the base, took 24min for large\n",
    "model = SentenceTransformer(\"hkunlp/instructor-base\")\n",
    "sentences = [[\"Generate an embedding that reflects the key themes in this text that can be comparable across embeddings\", para] for para in paras]\n",
    "para_embeddings = model.encode(sentences, show_progress_bar=True)\n",
    "para_embeddings.shape"
   ]
  },
  {
   "cell_type": "code",
   "execution_count": null,
   "metadata": {
    "colab": {
     "base_uri": "https://localhost:8080/"
    },
    "id": "q8r8Sxt-dOXa",
    "outputId": "0064d41d-a614-48b4-9aff-eb7115df6afb"
   },
   "outputs": [
    {
     "data": {
      "text/plain": [
       "(669, 768)"
      ]
     },
     "execution_count": 42,
     "metadata": {},
     "output_type": "execute_result"
    }
   ],
   "source": [
    "option_1_embedding = para_embeddings\n",
    "option_1_embedding.shape"
   ]
  },
  {
   "cell_type": "code",
   "execution_count": null,
   "metadata": {
    "colab": {
     "base_uri": "https://localhost:8080/"
    },
    "id": "0ZJ_JNyoe29u",
    "outputId": "60fc5660-483b-4ecd-fe11-9412a45bf0f7"
   },
   "outputs": [
    {
     "data": {
      "text/plain": [
       "(669, 768)"
      ]
     },
     "execution_count": 62,
     "metadata": {},
     "output_type": "execute_result"
    }
   ],
   "source": [
    "para_embeddings = option_1_embedding\n",
    "para_embeddings.shape"
   ]
  },
  {
   "cell_type": "code",
   "execution_count": null,
   "metadata": {
    "colab": {
     "base_uri": "https://localhost:8080/",
     "height": 337,
     "referenced_widgets": [
      "80e2f8c205304ed1af95cd4d594fe538",
      "60f383393d8e41aea9ce39b5bf9946a7",
      "4e08d38a55f04ff5a7f13950276ef4c1",
      "7fc07d86c4054b3e9e74364c0a0295a1",
      "91f452334bd942c28637ee39f6152441",
      "b22fa90e165f421e8886283835b35818",
      "ae28f0a966d34e18b80fa8a4442194ef",
      "83283f77b2b5419ca5d2ef431730e93e",
      "4bdbd07ffd564e06858380bf60abe508",
      "82e74b71fe894d10bd352cebf0466112",
      "915df2a311c6479bb9bf31483fb4dd03",
      "2077798adb39401b80b8e23943a88a3d",
      "a3db97d763ac4310b6f073445b36b180",
      "b830fa0eec4540768f76561999ad591d",
      "08739e925efe4ab680aa3e4f8ce91f29",
      "13bad3b910b64376a0419bf5c05aa514",
      "613df1350cab4927a9e21f7ed4fbf881",
      "c1575b20bcae412384e12bdf732cded6",
      "7661ee7098984605bb4ab3d8ed605dd9",
      "dbf2869b6d634fc4becd811fe93cd9f2",
      "fa479ac8d62e4f0e841c359db0bcfa84",
      "d48225d3977b43c6836225bec62d6b90",
      "84618c4d49a945aea1c22a29d9e50fc8",
      "63635db280d0492ba5dbc22bd1f4639d",
      "003358521f3040e0b577247c4627205f",
      "bfc9868eebee442ca6d80cbdc881dc3a",
      "bd4e92acdbbd4108b65e43961c7171e2",
      "acb2fdcb4cf0427193a56ec36872e1a9",
      "a1474356952444a193a06a603d2f8d56",
      "703276b7e85d4eb2bf9a667fef872c0a",
      "7245d1afa954458b867f8d9caa85155a",
      "e6db62e955614ab5801197549c2b405d",
      "560680f555984bc5b47c7dae8be58f69",
      "4dd7824ba1f2485fb364ac099acea052",
      "339fd1397e204249a6baf4fa334cd76c",
      "dd3ba352b1ec4263b0e700f2a65303d7",
      "3663fd6d6aba40179b03f0795e77db6a",
      "305e42b30e9046f3828f053d3b5b9dce",
      "042a60d98e984128aa779853abf62dd7",
      "0960d2727cdc4fa98ee31ec5b274a282",
      "665d9e99748f4d94898c36acaf989c6d",
      "8c2b4a2c2b5e4a998fe27a92e8417f31",
      "e2a3eed23abc4a69bead4d3f6b5764da",
      "6edf70d4535445cab0a246a725d3cdf1",
      "e84b05056980418a8a3651227c8c7da7",
      "3f1bf0591b1545488fea501279cc8221",
      "830864d278e2458384e371a27372cfe5",
      "0bb3aae970734b08b6ebdedeb2686b65",
      "d5a5720a68ed442299cb74b62e3a38f5",
      "777eb22b5b45454ea8d5eb670395af33",
      "5ffaa81548d8443ca45da0e5f9a5b3fa",
      "688e559fd7d64b7ead073910010b96ad",
      "202d7342c08a4ba1853e9fb313d15311",
      "8243e2fe1ccd4e06967b0fbe9f7945ed",
      "5221e5ee62fe4f5f9793829db4c78248",
      "9852e81197f64adb881f932f6c1f1d39",
      "ec07f3c82c134d03b6468f549cb9a6a1",
      "b2f967b21ed14824abcf18617cefd764",
      "6f5569a0ae3c491a84a6d3b2396e23b8",
      "19a6af8b9b334375a8e2f7ad073e590d",
      "03ac368643b143498ef86a4d3379186b",
      "77a4261e95db4851b51d617fa2b5a4ca",
      "5b8df4e95594450ba0295aedf3c49073",
      "182f0e07a7164d96903a44cc025a7417",
      "e1a0f86597cd489b85d7819e639db8dc",
      "884ce597628044c89f709721ca713ece",
      "0e7caab0888a43528b531088ab66694a",
      "151b2b1d01684941ac532df35c464447",
      "52654b58d3fa49a5bc7ff3f2160a3009",
      "5a68cf52e1d24b8c93d98a297f63d3db",
      "f0a582567ce74c84bb11aab3875fd05b",
      "9c4336d60d7f48778da638df63d269d2",
      "6375668ef27e496b94e210dba062a92b",
      "43ad9dbe08af4894b2340193fc681c8d",
      "ec876935331a479a99dd6c4aca2b3aea",
      "51e5c8c60c8345b283d6a201be280021",
      "0f9d6c96e6e04abd9868afeae4f15957",
      "c85531a55cd34c189dd1bdb4248fc99e",
      "082ab989566d463aa6b370eb177814da",
      "f95b317e1c244577a429cb0959913fc5",
      "cca0a17ce11f40679be2e83284a5909b",
      "2ee590edd334471b9ba004e0e5c7b9c2",
      "4d06e908552a4078a3948fc01d816945",
      "e00b3abe928c48bd9169cb865afbe80a",
      "980e8322ad3049b387fcee93162246cb",
      "34d30bb4a9944646aa6237f47a6e7c0a",
      "2255a2812cbc4441aa9bfa9bd3893f8c",
      "443852cb6f0c46088edc276b69e3f5cb",
      "0eac869f887c418ca8f51759785c2733",
      "a001e72830204e73bf389e013eac0653",
      "3ed666784dca480e887b2dcb6b142126",
      "8ddaef13c06d4f009cd496a8a079844a",
      "3c139ddebc5f41ce8999339b0656b1bb",
      "ad0c2c0cb512475593ec44313e26c3d7",
      "ad7c72d394e6410780b790d60399396b",
      "590e59c3f9c040eaa5748078efe142a3",
      "0d1e5fdd12a746459810c9f3783db7e6",
      "60281eec6e064ec1bfd0cf991ae6e20a",
      "fe4ad00df89f4593a451e813061a3cb6",
      "5f4898120c1849af97b996802dcc3577",
      "e8be6f0fff554adbaf5da407b029e3d8",
      "d321bb76aed64e7b95ea6d530209ac73",
      "07f9baee62024c87a61f28940ad36bc6",
      "1803e86c76a44cd7840132c34d76fff1",
      "a3891bd4eaed41ff913c5272e9de3972",
      "a0bea9079df64ebd9faceaeb9098142e",
      "fee7057ce820421bbe2c241525784b89",
      "7832848daf0f49cda2b7ed9e2622c42d",
      "ba5879193cea4cc9a8a291d5f8e6785d",
      "f9ab3979fcf040868acc5e0a9cca3a8e"
     ]
    },
    "id": "mo2K8youpkgn",
    "outputId": "55e18d8b-e657-4639-ae3a-201fabcb0fe0"
   },
   "outputs": [
    {
     "data": {
      "application/vnd.jupyter.widget-view+json": {
       "model_id": "80e2f8c205304ed1af95cd4d594fe538",
       "version_major": 2,
       "version_minor": 0
      },
      "text/plain": [
       "modules.json:   0%|          | 0.00/387 [00:00<?, ?B/s]"
      ]
     },
     "metadata": {},
     "output_type": "display_data"
    },
    {
     "data": {
      "application/vnd.jupyter.widget-view+json": {
       "model_id": "2077798adb39401b80b8e23943a88a3d",
       "version_major": 2,
       "version_minor": 0
      },
      "text/plain": [
       "README.md:   0%|          | 0.00/67.8k [00:00<?, ?B/s]"
      ]
     },
     "metadata": {},
     "output_type": "display_data"
    },
    {
     "data": {
      "application/vnd.jupyter.widget-view+json": {
       "model_id": "84618c4d49a945aea1c22a29d9e50fc8",
       "version_major": 2,
       "version_minor": 0
      },
      "text/plain": [
       "sentence_bert_config.json:   0%|          | 0.00/57.0 [00:00<?, ?B/s]"
      ]
     },
     "metadata": {},
     "output_type": "display_data"
    },
    {
     "data": {
      "application/vnd.jupyter.widget-view+json": {
       "model_id": "4dd7824ba1f2485fb364ac099acea052",
       "version_major": 2,
       "version_minor": 0
      },
      "text/plain": [
       "config.json:   0%|          | 0.00/616 [00:00<?, ?B/s]"
      ]
     },
     "metadata": {},
     "output_type": "display_data"
    },
    {
     "data": {
      "application/vnd.jupyter.widget-view+json": {
       "model_id": "e84b05056980418a8a3651227c8c7da7",
       "version_major": 2,
       "version_minor": 0
      },
      "text/plain": [
       "model.safetensors:   0%|          | 0.00/1.34G [00:00<?, ?B/s]"
      ]
     },
     "metadata": {},
     "output_type": "display_data"
    },
    {
     "data": {
      "application/vnd.jupyter.widget-view+json": {
       "model_id": "9852e81197f64adb881f932f6c1f1d39",
       "version_major": 2,
       "version_minor": 0
      },
      "text/plain": [
       "tokenizer_config.json:   0%|          | 0.00/314 [00:00<?, ?B/s]"
      ]
     },
     "metadata": {},
     "output_type": "display_data"
    },
    {
     "data": {
      "application/vnd.jupyter.widget-view+json": {
       "model_id": "0e7caab0888a43528b531088ab66694a",
       "version_major": 2,
       "version_minor": 0
      },
      "text/plain": [
       "vocab.txt:   0%|          | 0.00/232k [00:00<?, ?B/s]"
      ]
     },
     "metadata": {},
     "output_type": "display_data"
    },
    {
     "data": {
      "application/vnd.jupyter.widget-view+json": {
       "model_id": "c85531a55cd34c189dd1bdb4248fc99e",
       "version_major": 2,
       "version_minor": 0
      },
      "text/plain": [
       "tokenizer.json:   0%|          | 0.00/711k [00:00<?, ?B/s]"
      ]
     },
     "metadata": {},
     "output_type": "display_data"
    },
    {
     "data": {
      "application/vnd.jupyter.widget-view+json": {
       "model_id": "0eac869f887c418ca8f51759785c2733",
       "version_major": 2,
       "version_minor": 0
      },
      "text/plain": [
       "special_tokens_map.json:   0%|          | 0.00/125 [00:00<?, ?B/s]"
      ]
     },
     "metadata": {},
     "output_type": "display_data"
    },
    {
     "data": {
      "application/vnd.jupyter.widget-view+json": {
       "model_id": "5f4898120c1849af97b996802dcc3577",
       "version_major": 2,
       "version_minor": 0
      },
      "text/plain": [
       "config.json:   0%|          | 0.00/201 [00:00<?, ?B/s]"
      ]
     },
     "metadata": {},
     "output_type": "display_data"
    }
   ],
   "source": [
    "#option2: use intfloat\n",
    "model = SentenceTransformer(\"intfloat/e5-large-v2\")\n",
    "sentences = [f\"query: {para}\" for para in paras]\n",
    "para_embeddings = model.encode(sentences, normalize_embeddings=True)\n",
    "para_embeddings.shape"
   ]
  },
  {
   "cell_type": "code",
   "execution_count": null,
   "metadata": {
    "colab": {
     "base_uri": "https://localhost:8080/",
     "height": 315,
     "referenced_widgets": [
      "c638c7a203ae487c8d283255e6a02552",
      "737ece31ca4f454984d8a11f3b6d1d6f",
      "2d2a6146aab44d779a76ffd509e98ced",
      "e3ddf2aba4f84d1aa7e6aa31c6d600b3",
      "ac2f5ecda32249c7b79833e17820590b",
      "372fb6aa63a04df7b5f80e2913341f46",
      "bd62236e6a984bbaa63c14d99e91c511",
      "0ffbb3dd09e4451c92867bcd183ef8ab",
      "cb7068f3d43e41c1bc62203ea91e0d9a",
      "c2387afaa337493e876c3c85006953fc",
      "764dcb9dbb0b461e8ecd0f6e9c1de958",
      "14949d2df35d4f8a9be9773badcd72e0",
      "47d08495ebcf43c8aac5c7ffe0b686d7",
      "51501e08ffe542b1b16f8528cae2676d",
      "ab757a13572f4b47babe82f52bac50ab",
      "f9414b935c5d45c08f745630a21cbaff",
      "745f7fa021db4787ab7da24ccef07af3",
      "9e3d3f7bf7f44f399f8ba851e2f83684",
      "786c7e3c1044435b9c4027b67eebbdf9",
      "1e65a9fcac7440b58cbeb9175984d24c",
      "138f38a9e2b841aeafe9acfaeb246a16",
      "d24c12fc16304d569bf8ce5d7d4a881b",
      "f458cb0fe4184861b9e48de06f9fa836",
      "f37584a8fc704ac2a15da8d2a6c749d1",
      "965ac5fe1d05429f8ab17fff389fa8df",
      "cbb90ea190134237bb6f115c3faa3684",
      "7ada406bb7ec4211a18bc89fc791fac2",
      "5211bafe39e14012a54df4601186e9ca",
      "e7ef801ce85f46aa8ba53bd6a5a62df7",
      "eb5b38a6b81248c695732da7cbfda49d",
      "5cafa27912884ef0b1ec4a7e33b4b7ed",
      "f5061f6271bc445d93b91724f7eb719c",
      "043403d630404a319d1b254e041e4d02",
      "37141390aac649ec9427f2102fbcb52c",
      "368cdf18dc454ae2868efd1377895113",
      "98043eb23b834e90ae3d4c1a02a9513d",
      "2e2d5a7fbf654d5ea3f93778f2436770",
      "118cb94742314b0b8db623daa2c37c93",
      "511e1d596ab443b1975cf5c09bead7c4",
      "968a8519cea040ecaf332ceaa908b10b",
      "6d98f0a990a944ab953e0dbd0c07ac6a",
      "6b8c91b468ce4d34bf653cf9d7ad0fe4",
      "0816661a97b24abf81fa96d25eb9abb2",
      "b69ce49c8d0c4d66b809a2342bf3e59a",
      "883f5580e51b45a7a6895645d7a2466a",
      "da6e328ee47e44658296b256d12da743",
      "076f03c801bd4909bdb6797dde71ebdc",
      "5ae4f003bedd4116ab09024e6f6409f2",
      "2ebdf432eed548fd80c065b2c1d7dd1a",
      "5067dbef3a334084bef1f15d42d3a6f3",
      "a657b3f1773e4085a8f57e937f50953d",
      "35174de8d8b544c2bdc828ebf9a9e4bf",
      "96c11dbc88984d3f91545826dd724ce4",
      "4f2031e02abe4149a3d42fed72fa03c1",
      "2948d73601d548d996aa9403e27aa906",
      "0f6631bd1ea84733a1baaa6fb4001626",
      "7e239969e9854999828b3f64d375b1f9",
      "3e8d9dbf8ee648248c6c1b402d8aae30",
      "7492742a22be4bbb9a57bfc276ae553d",
      "8758c4db03354b83ae22aaa936944f39",
      "66f338b072914da29a2db9c9a7adc105",
      "8b265df1d0ef44e0b64d4263e890a5fe",
      "e511a950e00b4ec398c6275f89dfb9e0",
      "23b35dd498d940c48d93faeea3ff1126",
      "c86e50a689794e9ca9d23cf3370bc9bf",
      "31b954a431174870a799a6fe833dbdf8",
      "c1115981f5e34ceeaff54d1b43dae193",
      "8f42285595c74dcc9083bb7721c8d3ce",
      "9cb16fca443b427bb38511f289a6859a",
      "c548b8d13c91493c8cbb1a56515d0af7",
      "c26caad686a347b2831eb37d0442cd5e",
      "8d69700adcb943a39c163d7627b4fa36",
      "b85d6ae1114649dcb07a75ae78bae125",
      "394ac280551e4044add6324767cb508c",
      "97a35e44a0054694a1864db67e17c5b7",
      "ad12cb76d3a44c4c9a19a2a63714a6b1",
      "f86dce03a9cd45de8d71e987a3395a8d"
     ]
    },
    "id": "XalBPwUxDZ_r",
    "outputId": "d93c8a7c-70b8-48b0-8bea-13fa6f23f056"
   },
   "outputs": [
    {
     "name": "stderr",
     "output_type": "stream",
     "text": [
      "Xet Storage is enabled for this repo, but the 'hf_xet' package is not installed. Falling back to regular HTTP download. For better performance, install the package with: `pip install huggingface_hub[hf_xet]` or `pip install hf_xet`\n",
      "WARNING:huggingface_hub.file_download:Xet Storage is enabled for this repo, but the 'hf_xet' package is not installed. Falling back to regular HTTP download. For better performance, install the package with: `pip install huggingface_hub[hf_xet]` or `pip install hf_xet`\n"
     ]
    },
    {
     "data": {
      "application/vnd.jupyter.widget-view+json": {
       "model_id": "c638c7a203ae487c8d283255e6a02552",
       "version_major": 2,
       "version_minor": 0
      },
      "text/plain": [
       "model.safetensors:   0%|          | 0.00/90.9M [00:00<?, ?B/s]"
      ]
     },
     "metadata": {},
     "output_type": "display_data"
    },
    {
     "data": {
      "application/vnd.jupyter.widget-view+json": {
       "model_id": "14949d2df35d4f8a9be9773badcd72e0",
       "version_major": 2,
       "version_minor": 0
      },
      "text/plain": [
       "tokenizer_config.json:   0%|          | 0.00/350 [00:00<?, ?B/s]"
      ]
     },
     "metadata": {},
     "output_type": "display_data"
    },
    {
     "data": {
      "application/vnd.jupyter.widget-view+json": {
       "model_id": "f458cb0fe4184861b9e48de06f9fa836",
       "version_major": 2,
       "version_minor": 0
      },
      "text/plain": [
       "vocab.txt:   0%|          | 0.00/232k [00:00<?, ?B/s]"
      ]
     },
     "metadata": {},
     "output_type": "display_data"
    },
    {
     "data": {
      "application/vnd.jupyter.widget-view+json": {
       "model_id": "37141390aac649ec9427f2102fbcb52c",
       "version_major": 2,
       "version_minor": 0
      },
      "text/plain": [
       "tokenizer.json:   0%|          | 0.00/466k [00:00<?, ?B/s]"
      ]
     },
     "metadata": {},
     "output_type": "display_data"
    },
    {
     "data": {
      "application/vnd.jupyter.widget-view+json": {
       "model_id": "883f5580e51b45a7a6895645d7a2466a",
       "version_major": 2,
       "version_minor": 0
      },
      "text/plain": [
       "special_tokens_map.json:   0%|          | 0.00/112 [00:00<?, ?B/s]"
      ]
     },
     "metadata": {},
     "output_type": "display_data"
    },
    {
     "data": {
      "application/vnd.jupyter.widget-view+json": {
       "model_id": "0f6631bd1ea84733a1baaa6fb4001626",
       "version_major": 2,
       "version_minor": 0
      },
      "text/plain": [
       "config.json:   0%|          | 0.00/190 [00:00<?, ?B/s]"
      ]
     },
     "metadata": {},
     "output_type": "display_data"
    },
    {
     "data": {
      "application/vnd.jupyter.widget-view+json": {
       "model_id": "c1115981f5e34ceeaff54d1b43dae193",
       "version_major": 2,
       "version_minor": 0
      },
      "text/plain": [
       "Batches:   0%|          | 0/21 [00:00<?, ?it/s]"
      ]
     },
     "metadata": {},
     "output_type": "display_data"
    },
    {
     "data": {
      "text/plain": [
       "(669, 384)"
      ]
     },
     "execution_count": 44,
     "metadata": {},
     "output_type": "execute_result"
    }
   ],
   "source": [
    "#option3: use default all-MiniLM base, this is the fastest, but has the worst performance\n",
    "#took 43s for 250 articles\n",
    "model = SentenceTransformer(\"all-MiniLM-L6-v2\")\n",
    "para_embeddings = model.encode(paras, show_progress_bar=True)\n",
    "para_embeddings.shape"
   ]
  },
  {
   "cell_type": "code",
   "execution_count": null,
   "metadata": {
    "colab": {
     "base_uri": "https://localhost:8080/",
     "height": 99,
     "referenced_widgets": [
      "5164a296c61342d78e7ee096b5e4885b",
      "790d729d0bca489ea62765c43a2a6c0f",
      "a71bcaee9aad46b0a7ba9ab17e40fd9c",
      "02211c86c1e340b19514ee769b960f6a",
      "5dc2a99853f1462b9e1bf9a9bf3c742a",
      "c4ff04d812ff46128168fa1ed1c14b80",
      "73961fca2392466a914cb5b734c5ef17",
      "a946da171d7043038d6ea00befbf12a9",
      "58eee38d8fdf4d6ca712b26364c4a856",
      "46b361f60bfc45cb8753cba052a6000b",
      "7f522e0dbb4c4563977cab7be565edab",
      "d10359c9362149579b4befd21ddf30c0",
      "6c1d187a6b2d49d29eaafc1e592f4463",
      "0f26bdc7b5e343ac817f5bd77d906c08",
      "fbb9008cfcb941e6a702eb7de46e7338",
      "90c7a621113e40afbb259defa174ce21",
      "a3e37d60d72c4bb0ab146f7682d4e3f1",
      "1cc60371d56f47118cdebf4d8ac42d50",
      "0cb97112c66a46288f1d4e102e12f9af",
      "668ff53b3e9445e9a17b754fcb999b50",
      "71ccc0ff917d404aa9871fe7aa75c195",
      "f691ab00575a4938b76dc0120eb6c6ae"
     ]
    },
    "id": "AOiw34NhJz4P",
    "outputId": "0a39e898-3e53-486d-b439-6feeea8bebbd"
   },
   "outputs": [
    {
     "data": {
      "application/vnd.jupyter.widget-view+json": {
       "model_id": "5164a296c61342d78e7ee096b5e4885b",
       "version_major": 2,
       "version_minor": 0
      },
      "text/plain": [
       "Batches:   0%|          | 0/21 [00:00<?, ?it/s]"
      ]
     },
     "metadata": {},
     "output_type": "display_data"
    },
    {
     "data": {
      "application/vnd.jupyter.widget-view+json": {
       "model_id": "d10359c9362149579b4befd21ddf30c0",
       "version_major": 2,
       "version_minor": 0
      },
      "text/plain": [
       "Batches:   0%|          | 0/23 [00:00<?, ?it/s]"
      ]
     },
     "metadata": {},
     "output_type": "display_data"
    },
    {
     "data": {
      "text/plain": [
       "((669, 384), (720, 384))"
      ]
     },
     "execution_count": 4,
     "metadata": {},
     "output_type": "execute_result"
    }
   ],
   "source": [
    "#using option 3 for batch 1 and 2\n",
    "model = SentenceTransformer(\"all-MiniLM-L6-v2\")\n",
    "batch_1_emb = model.encode(batch_1, show_progress_bar=True)\n",
    "batch_2_emb = model.encode(batch_2, show_progress_bar=True)\n",
    "batch_1_emb.shape, batch_2_emb.shape"
   ]
  },
  {
   "cell_type": "code",
   "execution_count": null,
   "metadata": {
    "id": "D782A_GjexPF"
   },
   "outputs": [],
   "source": [
    "option_3_embedding = para_embeddings"
   ]
  },
  {
   "cell_type": "code",
   "execution_count": null,
   "metadata": {
    "id": "7GL1X605g7vV"
   },
   "outputs": [],
   "source": [
    "#all_docs: list of string representation of docs\n",
    "#cluster_labels: clusterer.labels_\n",
    "#return: dictionary of the ids of docs in each cluster\n",
    "def create_doc_clusters(all_docs, cluster_labels):\n",
    "  cluster_keys = np.unique(cluster_labels)\n",
    "  num_clusters = len(cluster_keys)\n",
    "  doc_clusters = {}\n",
    "  for cluster_key in cluster_keys:\n",
    "    doc_ids = np.where(cluster_labels==cluster_key)[0]\n",
    "    doc_clusters[int(cluster_key)] = doc_ids.tolist()\n",
    "\n",
    "  for key, val in doc_clusters.items():\n",
    "    docs_list = []\n",
    "    for doc_id in val:\n",
    "      doc = all_docs[int(doc_id)]\n",
    "      docs_list.append(doc)\n",
    "    doc_clusters[key] = docs_list\n",
    "\n",
    "  return doc_clusters"
   ]
  },
  {
   "cell_type": "code",
   "execution_count": null,
   "metadata": {
    "id": "jtjahqZ9RtE8"
   },
   "outputs": [],
   "source": [
    "#create vocab (bow) for all data points\n",
    "#params: paras (list of all documents in str form), all_clusters ()\n",
    "#returns word_to_id, id_to_word, freq_mats\n",
    "\n",
    "def create_vocab_and_matrices(paras, doc_clusters):\n",
    "  vectorizer_model = CountVectorizer(stop_words=\"english\")\n",
    "  vectorizer_model = vectorizer_model.fit(paras) #creates the vocab across entire corpus\n",
    "  word_to_id = vectorizer_model.vocabulary_\n",
    "  id_to_word = {id: word for word, id in word_to_id.items()}\n",
    "\n",
    "  freq_mats = {}\n",
    "\n",
    "  #creates word freq matrix for each cluster\n",
    "  for key, cluster in doc_clusters.items():\n",
    "    freq_mat = vectorizer_model.transform(cluster)\n",
    "    freq_mats[key] = freq_mat\n",
    "\n",
    "  return word_to_id, id_to_word, freq_mats\n"
   ]
  },
  {
   "cell_type": "code",
   "execution_count": null,
   "metadata": {
    "id": "ytw2JspCewmJ"
   },
   "outputs": [],
   "source": [
    "def tfidf_selection(n, word_freq_mat, id_to_word):\n",
    "  tfidf_transformer = TfidfTransformer()\n",
    "  tfidf_matrix = tfidf_transformer.fit_transform(word_freq_mat) #calc tfidf vals for each row in mat\n",
    "  tfidf_sum_per_token = tfidf_matrix.sum(axis=0).A1 #sparse matrix syntax\n",
    "  token_ids_by_tfidf = np.argsort(tfidf_sum_per_token)[::-1]\n",
    "  top_n_token_ids = token_ids_by_tfidf[:n]\n",
    "  top_n_words = [id_to_word[token_id] for token_id in top_n_token_ids]\n",
    "  return top_n_token_ids, top_n_words"
   ]
  },
  {
   "cell_type": "code",
   "execution_count": null,
   "metadata": {
    "id": "rJTag2wSf2st"
   },
   "outputs": [],
   "source": [
    "#TOY DATA SKIP THIS\n",
    "para_1 = \"Such a contingency can be based on societal contexts—if in a particular context, privacy does not impact one’s ability to achieve an interest of moral value, then privacy itself ceases to have instrumental moral value and a right to privacy would not exist as such. One way in which social contexts can influence the instrumental moral value of privacy is through society’s determination of the triviality of certain information. By definition, privacy only pertains to personal information, in other words, information that people in one’s community are sensitive about. The person whom such personal information is about must desire that others not possess the information, except those to whom he chooses to reveal the information to, or at least most of the people in society must have a similar desire about said information. Trivial information, then, is information neither one nor one’s community cares about. Because an entire society is apathetic to such trivial information, sharing it would have no bearing on one’s ability to achieve any interest of moral value since it would not matter whether others knew about the information. If information p is considered “personal” by one society but “trivial” to another, then a right to privacy pertaining to p exists in the former but not the latter. \"\n",
    "para_2 = \"A well-known principle in private law theory holds that one is responsible for the outcomes of an action (or inaction) when those outcomes are connected with the individual’s agency in the right way (Voyiakis, 2021). In other words, responsibility arises if one exhibits agency in the conduct of an action. Yet, in the field of AI safety research, the countervailing view seems to hold sway—irrespective of the agency of an AI system, it is the owners and designers of the system that bear responsibility for its actions and their accompanying outcomes (Cibralic, 2025). Such a position implies a disconnect between an entity’s possession of agency and the imputation of responsibility to it. How can such a decoupling of agency and responsibility in the context of agentic AI be philosophically justified? This paper lays out approaches that might be taken towards this goal. It starts with the assumption that an AI possesses agency in the conduct of some action and details two ways in which the AI might still not be considered responsible for the action. Here, the “standard theory of agency”—that agency is the capacity of an entity to engage in intentional action—is adopted (Schlosser, 2019). Alternative, more contentious definitions that define agency in terms of the power of self-initiation or free will are thus left outside the scope of discussion.\"\n",
    "para_3 = \"Important Notes: Word Frequency Matrix: The matrix you have (32x2024) is assumed to be a document-term matrix, where each row represents a document (or example) and each column represents a word in the vocabulary. Sparse Matrix: The resulting TF-IDF matrix will typically be a sparse matrix due to the large size, and Scikit-learn handles this efficiently. However, converting to a dense matrix may be necessary if you want to view or manipulate it directly. Let me know if you need more details or further assistance with this!\"\n",
    "para_4 = \"Another perspective on the contingency of the right to privacy adopts a narrower definition of a moral “right.” Under this view articulated by Andre (1986), having moral value or being instrumental to an interest of moral value is necessary but not sufficient to be a right. Right claims also entail the trumping of opposing interest claims. In other words, A can only count as a moral right if it clearly outweighs the opposing interests of not-A. Assuming the framework described earlier on the interests of moral value that privacy is instrumental to is correct, privacy, then, can only be considered a right if it outweighs countervailing interests of moral value of not-privacy—that is, knowledge of other people. Posner (1978) emphasizes the value of having information about others, arguing that such knowledge enables us to learn from their actions, anticipate their behavior, and make informed decisions. At least some of this information can be seen as instrumental to pursuing interests of moral value. For example, access to someone's criminal record may help us assess potential risks and take self-protective actions—serving the moral interest of self-preservation. Posner draws an economic analogy: just as we want to know the true quality of a product before buying it, or the reputation of a company before doing business, we also seek truthful information about individuals before forming associations with them. In each case, the goal is to avoid harm and safeguard our well-being. In this perspective, the existence of a right to privacy to personal information p is dependent on whether it outweighs interests of moral value from the right to knowledge of p. \"\n",
    "para_5 = \"Even if an AI system were a free agent, it might not necessarily be considered fully “responsible” as responsibility manifests in different forms—causal, moral, and legal—none of which inherently entails the others. Causal responsibility is assigned to an agent for an outcome that they have caused, and is perhaps the most direct form of responsibility. It can exist in varying degrees ranging from direct and proximate to collective and diffuse across a single or multiple agents. Explaining the nuances between them goes beyond the scope of this paper, but even the highest degree of causal responsibility—dierct and proximate—implies neither moral nor legal responsibility. \"\n",
    "para_6 = \"Legal responsibility, on the other hand, is dependent on what entity is held accountable in the eyes of the law. Though legal principles often draw from theories of causal and moral responsibility, the latter two do not necessarily imply the former. A paradigmatic example of this is the 1972 Space Liability Convention, in which the entity held liable for damage caused by a space object is the country from which the object was launched. This strict state liability holds even if the object was operated by a private non-state-affiliated company. In this case, despite causal and moral responsibility accruing to the private company, legal responsibility falls on the state. Such a framing of legal responsibilities was intentional as the drafters of the Convention wanted to ensure governmental oversight over space activities. In the case of AI, a similar framework might play out. While agentic AI might be considered free agents, and also be causally and morally responsible for an action, the law might still choose to impute responsibility to the system’s designers out of practicality to compel strong oversight by companies over their digital creations. \"\n",
    "para_7 = \"Overall, while agency seems prima facie necessary and sufficient for the imputation of responsibility, the two concepts can be decoupled in the context of agentic AI. One might argue that such systems might merely possess deterministic agency and thus not be free agents that can be attributed responsibility. Alternatively, even if AI agents were considered free, they might still fall short of being fully responsible. Specifically, even if such agents were fully causally responsible for an action, they can only be morally responsible if they are characterized as moral agents, and can only be legally responsible if the law identifies them as the responsible legal personality in a given context. Another upshot of this paper is that decoupling of agency and responsibility is not a problem unique to the emergence of agentic AI systems. While truly agentic AI systems remain speculative, this work demonstrates that analogous cases of non-free, non-moral, and non-legally responsible agents already exist. By examining these precedents, one can gain insights for addressing the philosophical dilemmas that emerging technologies might present in the future.\"\n",
    "para_8 = \"Yet, the fact remains that the system was originally programmed by its designers who would have preset certain base parameters such as the learning algorithms, objective functions etc. This suggests that the initial configuration of the system conceivably dictates the agent’s actions to some extent, or at the very least bounds the latitude of intentional action the agent can take. For instance, an agentic AI system preprogrammed to execute actions that maximize a certain objective function would not be at liberty to execute the action that in fact minimizes that function. In this sense, the system would operate only within the realm of deterministic agency because the algorithm through which it makes its decisions has been preset even if the specific action it took is determined by itself through an intentional, agentic process. Since it lacks the free will to choose how to select which intentional action to execute, it is thus not free (Onyeukaziri, 2023). This criterion—the freedom to choose a course of action—embodies the broadly supported principle of alternative possibilities, which holds that an agent is responsible for an action only if they could have acted otherwise (Robb, 2020). At its core, this principle reflects the idea that responsibility presupposes control, a condition made possible by free will. Given that the agentic AI lacks free will, it would then not make sense to impute responsibility to it.\"\n",
    "para_9 = \"sort Describes sorting algorithms used. lexsort Indirect stable sort with multiple keys. ndarray.sort Inplace sort. argpartition Indirect partial sort. take_along_axis Apply index_array from argsort to an array as if by calling sort. Notes See sort for notes on the different sorting algorithms. As of NumPy 1.4.0 argsort works with real/complex arrays containing nan values. The enhanced sort order is documented in sort.\"\n",
    "para_10 = \"Sorting algorithm. The default is ‘quicksort’. Note that both ‘stable’ and ‘mergesort’ use timsort under the covers and, in general, the actual implementation will vary with datatype. The ‘mergesort’ option is retained for backwards compatibility. Changed in version 1.15.0: The ‘stable’ option was added. orderstr or list of str, optional When a is an array with fields defined, this argument specifies which fields to compare first, second, etc. A single field can be specified as a string, and not all fields need be specified, but unspecified fields will still be used, in the order in which they come up in the dtype, to break ties.\"\n",
    "para_11 = \"Another perspective on the contingency of the right to privacy adopts a narrower definition of a moral “right.” Under this view articulated by Andre (1986), having moral value or being instrumental to an interest of moral value is necessary but not sufficient to be a right. Right claims also entail the trumping of opposing interest claims. In other words, A can only count as a moral right if it clearly outweighs the opposing interests of not-A. Assuming the framework described earlier on the interests of moral value that privacy is instrumental to is correct, privacy, then, can only be considered a right if it outweighs countervailing interests of moral value of not-privacy—that is, knowledge of other people. Posner (1978) emphasizes the value of having information about others, arguing that such knowledge enables us to learn from their actions, anticipate their behavior, and make informed decisions. At least some of this information can be seen as instrumental to pursuing interests of moral value. For example, access to someone's criminal record may help us assess potential risks and take self-protective actions—serving the moral interest of self-preservation. Posner draws an economic analogy: just as we want to know the true quality of a product before buying it, or the reputation of a company before doing business, we also seek truthful information about individuals before forming associations with them. In each case, the goal is to avoid harm and safeguard our well-being. In this perspective, the existence of a right to privacy to personal information p is dependent on whether it outweighs interests of moral value from the right to knowledge of p. \"\n",
    "para_12 = \"Thus, a right to privacy can exist by virtue of the instrumentality of privacy in achieving interests of moral value such as, inter alia, justice, self-preservation, and autonomy. However, because common arguments for privacy as a right characterize privacy as merely instrumental to attaining moral value rather than being ipso facto morally valuable, the right to privacy is contingent on exogenous factors. For one, it can be dependent on societal contexts—a right to privacy pertaining to information p might exist in one society but not another based on the society’s determination of whether p is trivial or personal. Alternatively, some might argue that a right to privacy exists only insofar as it outweighs countervailing interests of moral value too. Such a conclusion complicates discussion on the right to privacy, especially in today’s “surveillance capitalist” environment. On the one hand, this analysis of privacy as contingent and flexible rather than set in stone clears the path for a possible right to privacy to be seen as “living,” adaptable to new contexts—if industrio-capitalist society finds a way to make the number of hairs on one’s head connected to an interest of moral value, then the scope of the right to privacy could conceivably broaden to include such information. On the other hand, this flexibility risks opening a Pandora’s box of relativistic interpretations, where the meaning and scope of privacy rights could be manipulated by bad actors to serve their own interests. \"\n",
    "para_13 = \"In discussions during class, a lot of the debate centered around what a right to privacy constitutes, and there were many working definitions and concepts that were mentioned in relation to this question. However, I thought the more fundamental question of whether or not there even exists a right to privacy was something not really touched upon. In the assigned reading by Rachels, he talks about the legitimate interests that privacy brings about, but this was talked about in a very rigid manner, and I wanted to explore more nuances to the argument that privacy existed as a right. Through writing the paper, I started to realize how the right to privacy is actually a very flexible and amorphous concept, which is good on the one hand because it can be adapted to different contexts (with increasing technology etc), but might be exploited by bad actors. If I had more time, bandwidth, and word count space, I might want to explore other arguments for why privacy can be considered a right. Perhaps there are arguments out there that portray privacy as an object of moral value in and of itself (not just of instrumental value), and an extended version of this paper could delve into those arguments as well.\"\n",
    "para_14 = \"HireVue is a human resources management company that provides employers with AI tools to enhance hiring. This report focuses on HireVue’s video interviewing software, which evaluates candidates’ job competencies based on their responses to video questions. HireVue touts this as transformative, allowing employers to use standardized and objective criteria to recruit in a more cost-effective and timely manner. Yet, the software has been criticized as a “license to discriminate” and a “profoundly disturbing development.” In response, HireVue stopped analyzing facial expressions in 2020 amid bias concerns. More, however, can still be done, and persistent public skepticism should give HireVue a commercial incentive to do more.\"\n",
    "para_15 = \"Two ethical challenges can be identified. First, there is opacity in crucial parts of the pipeline. While the company’s use of BoW and ridge regression increase explainability, these are combined with other models that are less explainable yet similarly—if not more—crucial. For instance, while BoW is explainable, it is considered a simpler model with less importance to semantic extraction than the more opaque CAKE model even by HireVue’s admission. Further, while error rates are publicized for Rev.AI’s transcription system, similar statistics are omitted for the BARS ridge regression model even though it is arguably the most crucial step in the pipeline. Such opacity means that explainability reports produced might misrepresent the actual workings of the AI algorithms, undermining confidence. Second, there is also a potential for algorithmic bias given the BARS model’s training dataset. While it was trained on examples from a diversity of gender and racial groups, the critical issue is whether this diversity was maintained within each category. If certain groups are disproportionately represented in specific categories, the model may learn spurious correlations that encode bias even if the dataset looks generally diverse. Such bias might exist even if problematic demographic features like race are excluded from the model as it might pick up on proxies.\"\n",
    "para_16 = \"In 2022, HireVue proudly released our AI Explainability Statement—the first of its kind in the HR industry. This statement, reviewed by the UK’s Information Commissioner’s Office (ICO), set a new standard for transparency in AI-powered hiring technologies, offering a clear, accessible explanation of how AI works within the HireVue platform.  This bold move demonstrated our unwavering commitment to ethical AI use, helping customers and the public understand the logic behind our AI-driven assessments. Publishing this much proprietary information was a significant departure from the traditional industry standard of fiercely protecting intellectual property, but the payoff has been pivotal in building trust amongst our stakeholders. Fast forward to today, and we recently expanded on the project by adding a second version of the statement - one that is updated to cover the next generation of our hiring platform (T2O), as well as overall advancements in how we are thinking about technology. Explainability work is not just a one-time declaration but an ongoing dialogue that keeps pace with the future of AI in hiring. The recent updates give our customers, regulators, and candidates an updated resource for reference. Both documents, the 2022 Explainability Statement and the 2024 Explainability Statement are publicly available. Below is a summary of the major updates of the 2024 T2O version of our explainability document:\"\n",
    "para_17 = \"Atypical employee departures are costly for government agencies because, first, they need to restart a hiring process to replace the previous employee, and second, there is an additional cost of lost knowledge and experience as an experienced employee leaves the organization. Towards the aim of mitigating atypical employee departures, an applied machine learning solution would be to create a binary classification model that predicts whether an employee will leave within the same fiscal year. Based on the importance and directional impact of different features in the model, an agency might be able to take steps to retain employees. For instance, if base salary is found to be an important feature in the model that increases along with the probability that an employee stays, the agency could consider increasing base salary to retain the employee. The model can further be used to determine exactly how much of a base salary increase would be sufficient to retain the employee.\"\n",
    "para_18 = \"Data used in training the model was pulled from the New York City Citywide Payroll Data for fiscal years 2014 to 2024 via an API call. To keep the training dataset size manageable, only records for the Administrator for Children’s Services employees that are paid per Annum and are currently either actively employed or no longer employed by the agency are considered. In other words, the model has only been trained on longer-term employees paid per year instead of per day or per week workers. In total, there were 82689 examples in the total dataset, which was rather imbalanced, with 84% being employed at the end of the fiscal year and the remaining 16% not being employed. Two thirds of the data was used for training while the last third was left as a test validation set. Stratified splitting was used to ensure that the proportion of employed and not employed examples remained similar.\"\n",
    "para_19 = \"Based on the optimal hyperparameters, the four models were fit on the training dataset and then tested on the held-out testing data. The test set was first preprocessed based on data from the training set (ie the means and standard deviations of the training sets were used to calculate the z scores of the overall pay (std_from_mean_overall_pay), OT hours (std_from_mean_ot_hours), and base salary (std_from_mean_salary). The models were scored based on accuracy, precision, and recall. I chose to place more importance on the accuracy and recall scores when determining the best model. Accuracy indicates the overall correctness of the model, and recall was more important than precision because false negatives—ie predictions that wrongly classify an employed employee (a 1 prediction) as ceased (a 0 prediction)—would be costly since employers would then want to spend resources trying to retain the employee. The results for accuracy, precision, and recall for the four models are shown in the table and graph below. Note that the dataset was imbalanced with 84% of examples being actively employed (1) and 16% of examples having ceased employment at the agency (0). Considering this, a baseline model that made random predictions based on a Bernoulli distribution with p=0.84 was also tested.\"\n",
    "para_20 = \"Partial dependency graphs were plotted for each of these four features to measure the impact of each feature on the prediction. Generally, there is a positive relationship between regular_hours, std_from_mean_reg_hours, and regular_gross_paid against the probability of staying at the agency (i.e. a 1 prediction). The relationship is more complex for time_in_pos_months. Ignoring a sudden initial drop in partial dependence, as the feature increases towards 0 (ie the mean across all examples since this numerical feature was scaled and centered column-wise in the preprocessing step), the relationship between time_in_pos_months and the probability of staying at the agency increases. This plateaus slightly as time_in_pos_months increases above the mean. I had initially hypothesized that overall_pay and std_from_mean_overall_pay would be one of the more important features for this binary classification task. I had also hoped that this would be the case because it would make incentivizing employees to stay at the agency easier—changing the overall pay would make workers stay. Yet, these features were slightly less important to the random forest model, ranking fifth and sixth in feature importance. Nonetheless, sut of curiosity, partial dependence plots of overall_pay and std_from_mean_overall_pay (z score of each example based on the mean and standard deviation of all examples of the same job description, not across all examples in the dataset) were also plotted. For these two features, an increase in either feature towards 0 (the mean across all examples since these numerical features were scaled and centered column-wise in the preprocessing step as well) leads to an increase in probability to stay employed at the agency.\"\n",
    "\n",
    "#1, 4, 11, 12, 13 as the same essay on privacy rights\n",
    "#3, 9, 10 as np.argsort\n",
    "#2, 5, 6, 7, 8 as the same essay on responsibility\n",
    "#14, 15, 16 as hirevue\n",
    "#17, 18, 19, 20 as aml proj 1 report\n",
    "\n",
    "\n",
    "paras = [[para_1], [para_2], [para_3], [para_4], [para_5], [para_6], [para_7], [para_8], [para_9], [para_10]]\n",
    "#paras = [[doc] for doc in docs[:10]]\n",
    "\n",
    "#embeddings of each para\n",
    "paras = [para_1, para_2, para_3, para_4, para_5, para_6, para_7, para_8, para_9, para_10, para_11, para_12, para_13, para_14, para_15, para_16, para_17, para_18, para_19, para_20]\n",
    "#para_embeddings = model.encode(paras)\n",
    "#para_embeddings.shape"
   ]
  },
  {
   "cell_type": "code",
   "execution_count": null,
   "metadata": {
    "colab": {
     "base_uri": "https://localhost:8080/"
    },
    "collapsed": true,
    "id": "bLClKeKLpOy1",
    "outputId": "3a1b95f2-cf8f-4d1d-b35d-e41279dada18"
   },
   "outputs": [
    {
     "data": {
      "text/plain": [
       "tensor([[ 0.1641,  0.0683,  0.1400,  ...,  0.1889, -0.1151,  0.1617],\n",
       "        [-0.0076,  0.0605,  0.0770,  ...,  0.0914,  0.2396, -0.0230],\n",
       "        [ 0.1048,  0.2222,  0.0214,  ...,  0.0708,  0.1032,  0.0876],\n",
       "        ...,\n",
       "        [ 0.2478,  0.1883,  0.1815,  ...,  0.1512,  0.0416,  0.2555],\n",
       "        [ 0.0876,  0.0365,  0.1355,  ...,  0.1640,  0.1282,  0.0691],\n",
       "        [ 0.0047, -0.0339,  0.1259,  ...,  0.0950,  0.1115,  0.1095]])"
      ]
     },
     "execution_count": 9,
     "metadata": {},
     "output_type": "execute_result"
    }
   ],
   "source": [
    "sim = model.similarity(batch_1_emb, batch_2_emb)\n",
    "sim"
   ]
  },
  {
   "cell_type": "code",
   "execution_count": null,
   "metadata": {
    "id": "6pd6ELBupuL4"
   },
   "outputs": [],
   "source": [
    "def opt_pca(embeddings, verbose=False, n_comp=None):\n",
    "  pca = PCA()\n",
    "  pca.fit(embeddings)\n",
    "  eigen_vals = pca.explained_variance_\n",
    "  cum_var = np.cumsum(eigen_vals)/np.sum(eigen_vals)\n",
    "  x_index = np.argmax(cum_var >= 0.9)\n",
    "  y_val = cum_var[x_index]\n",
    "  opt_n_comp = x_index+1\n",
    "\n",
    "  if verbose:\n",
    "    plt.figure(figsize=(10,6))\n",
    "    plt.plot(range(1,len(eigen_vals[:50])+1), cum_var[:50], marker='o')\n",
    "    plt.axhline(y=0.9, color='r', linestyle='--')\n",
    "    plt.xlabel('Number of principal components')\n",
    "    plt.ylabel('Variance explained')\n",
    "    plt.title('Variance explained as number of principal components increases')\n",
    "    #plt.scatter(y=y_val, x=x_index+1, color='red', zorder=3, label=f'({x_index + 1}, {y_val:.2f})') #need to do x_index+1 because the\n",
    "    plt.legend()\n",
    "    plt.show()\n",
    "\n",
    "  if n_comp:\n",
    "    opt_n_comp = n_comp\n",
    "\n",
    "  print(f\"Creating opt PCA with n_components={opt_n_comp}\")\n",
    "  opt_pca = PCA(n_components=opt_n_comp)\n",
    "  reduced_embeddings = opt_pca.fit_transform(embeddings)\n",
    "  return reduced_embeddings"
   ]
  },
  {
   "cell_type": "markdown",
   "metadata": {
    "id": "UUIhVefPk49t"
   },
   "source": [
    "<h1>NB: this is where n=40 for bertopic PCA was determined to be optimal"
   ]
  },
  {
   "cell_type": "code",
   "execution_count": null,
   "metadata": {
    "colab": {
     "base_uri": "https://localhost:8080/",
     "height": 597
    },
    "id": "r4DYS8Irqhm2",
    "outputId": "9ebd3578-458e-4560-df9c-de2149c0c302"
   },
   "outputs": [
    {
     "name": "stderr",
     "output_type": "stream",
     "text": [
      "<ipython-input-10-481a3b7934a6>:18: UserWarning: No artists with labels found to put in legend.  Note that artists whose label start with an underscore are ignored when legend() is called with no argument.\n",
      "  plt.legend()\n"
     ]
    },
    {
     "data": {
      "image/png": "[encoded data removed]",
      "text/plain": [
       "<Figure size 1000x600 with 1 Axes>"
      ]
     },
     "metadata": {},
     "output_type": "display_data"
    },
    {
     "name": "stdout",
     "output_type": "stream",
     "text": [
      "Creating opt PCA with n_components=40\n"
     ]
    },
    {
     "data": {
      "text/plain": [
       "(669, 40)"
      ]
     },
     "execution_count": 18,
     "metadata": {},
     "output_type": "execute_result"
    }
   ],
   "source": [
    "reduced_batch_1_emb = opt_pca(batch_1_emb, verbose=True, n_comp=40)\n",
    "reduced_batch_1_emb.shape"
   ]
  },
  {
   "cell_type": "code",
   "execution_count": null,
   "metadata": {
    "id": "q9RI3pzDqe4p"
   },
   "outputs": [],
   "source": [
    "#show dimensions of reduced_para_embedding\n",
    "\n",
    "def show_2_dims(reduced_embedding):\n",
    "  plt.scatter(reduced_embedding[:,0], reduced_embedding[:,1])\n",
    "  plt.xlabel('dim_1')\n",
    "  plt.ylabel('dim_2')\n",
    "  plt.title('two dims of reduced embedding')"
   ]
  },
  {
   "cell_type": "code",
   "execution_count": null,
   "metadata": {
    "colab": {
     "base_uri": "https://localhost:8080/",
     "height": 472
    },
    "id": "X-ooydN1rVje",
    "outputId": "46652bf1-63a4-4f36-f2be-6ab7dc7c046f"
   },
   "outputs": [
    {
     "data": {
      "image/png": "[encoded data removed]",
      "text/plain": [
       "<Figure size 640x480 with 1 Axes>"
      ]
     },
     "metadata": {},
     "output_type": "display_data"
    }
   ],
   "source": [
    "#how about i don't do pca?\n",
    "#show_2_dims(para_embeddings)\n",
    "#plt.show()\n",
    "show_2_dims(reduced_batch_1_emb)\n",
    "plt.show()"
   ]
  },
  {
   "cell_type": "markdown",
   "metadata": {
    "id": "dQUbCaJf8OAH"
   },
   "source": [
    "<h1>hyperparameter tuning: need to find out optimum min num points for HDBSCAN</h3>"
   ]
  },
  {
   "cell_type": "code",
   "execution_count": null,
   "metadata": {
    "id": "sMiRpxyhF1-d"
   },
   "outputs": [],
   "source": [
    "#semantic analysis, need to come up with objective function for hyperparameter tuning for hdbscan\n",
    "#weight this by num_points in cluster, otherwise the algo will favor small clusters\n",
    "\n",
    "#clusterer is a hdbscan cluster object\n",
    "#embeddings a matrix of example by reduced dimension, np array\n",
    "def calc_semantic_sim(embeddings, cluster_labels):\n",
    "  cluster_keys = np.unique(cluster_labels).tolist()\n",
    "  if -1 in cluster_keys:\n",
    "    cluster_keys.remove(-1) #remove noise key\n",
    "  num_clusters = len(cluster_keys)\n",
    "  num_clustered_points = (cluster_labels!=-1).sum()\n",
    "\n",
    "\n",
    "  weighted_avg_sims = []\n",
    "\n",
    "  for key in cluster_keys:\n",
    "    ids = np.where(cluster_labels==key)[0]\n",
    "    num_points = len(ids)\n",
    "    cluster_embeddings = embeddings[ids]\n",
    "\n",
    "    #calculate centroid\n",
    "    cent = cluster_embeddings.mean(axis=0)\n",
    "\n",
    "    cos_sims = []\n",
    "    #for point in cluster, calc cos sim to centroid\n",
    "    for id in ids:\n",
    "      point = embeddings[id]\n",
    "      cos_dist = distance.cosine(cent, point)\n",
    "      cos_sims.append(1-cos_dist)\n",
    "\n",
    "    #weight by num points in cluster\n",
    "    avg_sim = np.mean(cos_sims)\n",
    "    weight = num_points / num_clustered_points\n",
    "    weighted_avg_sims.append(weight * avg_sim)\n",
    "\n",
    "  return sum(weighted_avg_sims) #take sum not mean here"
   ]
  },
  {
   "cell_type": "code",
   "execution_count": null,
   "metadata": {
    "id": "X997RsJdit_8"
   },
   "outputs": [],
   "source": [
    "def calc_semantic_sim_with_penalty(embeddings, cluster_labels, penalty_strength=1):\n",
    "    cluster_keys = np.unique(cluster_labels).tolist()\n",
    "    if -1 in cluster_keys:\n",
    "        cluster_keys.remove(-1)  # remove noise key\n",
    "    num_clusters = len(cluster_keys)\n",
    "    num_points_total = len(cluster_labels)\n",
    "    num_clustered_points = (cluster_labels != -1).sum()\n",
    "    num_outliers = (cluster_labels == -1).sum()\n",
    "\n",
    "    weighted_avg_sims = []\n",
    "\n",
    "    for key in cluster_keys:\n",
    "        ids = np.where(cluster_labels == key)[0]\n",
    "        num_points = len(ids)\n",
    "        cluster_embeddings = embeddings[ids]\n",
    "\n",
    "        cent = cluster_embeddings.mean(axis=0)\n",
    "        cos_sims = [1 - distance.cosine(cent, embeddings[i]) for i in ids]\n",
    "\n",
    "        avg_sim = np.mean(cos_sims)\n",
    "        weight = num_points / num_clustered_points\n",
    "        weighted_avg_sims.append(weight * avg_sim)\n",
    "\n",
    "    sim_score = sum(weighted_avg_sims)\n",
    "\n",
    "    # Apply penalty for outliers\n",
    "    outlier_ratio = num_outliers / num_points_total\n",
    "    penalty = penalty_strength * outlier_ratio\n",
    "    adjusted_score = sim_score * (1 - penalty)\n",
    "\n",
    "    return adjusted_score\n"
   ]
  },
  {
   "cell_type": "markdown",
   "metadata": {
    "id": "T7QEh1cUlGhh"
   },
   "source": [
    "<h1>NB: calc_semantic_sim_with_penalty objective function here to tune min_cluster_size hyperparameter for HDBScan"
   ]
  },
  {
   "cell_type": "code",
   "execution_count": null,
   "metadata": {
    "id": "7_u4Enc7OS6N"
   },
   "outputs": [],
   "source": [
    "from scipy.spatial import distance\n",
    "import numpy as np\n",
    "\n",
    "def calc_semantic_sim_with_penalty(\n",
    "    embeddings,\n",
    "    cluster_labels,\n",
    "    penalty_strength_outliers=0.5,\n",
    "    penalty_strength_small_clusters=0.5,\n",
    "    small_cluster_threshold=10\n",
    "):\n",
    "    cluster_keys = np.unique(cluster_labels).tolist()\n",
    "    if -1 in cluster_keys:\n",
    "        cluster_keys.remove(-1)  # remove noise key\n",
    "    num_clusters = len(cluster_keys)\n",
    "    num_points_total = len(cluster_labels)\n",
    "    num_clustered_points = (cluster_labels != -1).sum()\n",
    "    num_outliers = (cluster_labels == -1).sum()\n",
    "\n",
    "    weighted_avg_sims = []\n",
    "    small_cluster_penalty = 0\n",
    "\n",
    "    for key in cluster_keys:\n",
    "        ids = np.where(cluster_labels == key)[0]\n",
    "        num_points = len(ids)\n",
    "        cluster_embeddings = embeddings[ids]\n",
    "\n",
    "        # Semantic similarity to centroid\n",
    "        cent = cluster_embeddings.mean(axis=0)\n",
    "        cos_sims = [1 - distance.cosine(cent, embeddings[i]) for i in ids]\n",
    "        avg_sim = np.mean(cos_sims)\n",
    "\n",
    "        # Weight by proportion of clustered points\n",
    "        weight = num_points / num_clustered_points\n",
    "        weighted_avg_sims.append(weight * avg_sim)\n",
    "\n",
    "        # Penalize small clusters\n",
    "        if num_points < small_cluster_threshold:\n",
    "            small_cluster_penalty += (small_cluster_threshold - num_points) / small_cluster_threshold\n",
    "\n",
    "    sim_score = sum(weighted_avg_sims)\n",
    "\n",
    "    # Penalty terms\n",
    "    outlier_ratio = num_outliers / num_points_total\n",
    "    total_penalty = (\n",
    "        penalty_strength_outliers * outlier_ratio +\n",
    "        penalty_strength_small_clusters * (small_cluster_penalty / num_clusters if num_clusters > 0 else 0)\n",
    "    )\n",
    "\n",
    "    adjusted_score = sim_score * (1 - total_penalty)\n",
    "\n",
    "    return adjusted_score"
   ]
  },
  {
   "cell_type": "code",
   "execution_count": null,
   "metadata": {
    "id": "58hLI0zpHupy"
   },
   "outputs": [],
   "source": [
    "#min_cluster_range as a list\n",
    "def grid_search_hdb(min_cluster_range, embeddings):\n",
    "  all_sims = []\n",
    "  for min_points in min_cluster_range:\n",
    "    clusterer = hdbscan.HDBSCAN(min_cluster_size=min_points)\n",
    "    clusterer.fit(embeddings)\n",
    "    cluster_labels = clusterer.labels_\n",
    "    sim = calc_semantic_sim_with_penalty(embeddings, cluster_labels)\n",
    "    all_sims.append(float(sim))\n",
    "  return all_sims"
   ]
  },
  {
   "cell_type": "code",
   "execution_count": null,
   "metadata": {
    "colab": {
     "base_uri": "https://localhost:8080/"
    },
    "id": "aWrYe1uqKbfE",
    "outputId": "99c72c0f-b89e-4248-f888-e1f667967fa6"
   },
   "outputs": [
    {
     "name": "stderr",
     "output_type": "stream",
     "text": [
      "/usr/local/lib/python3.11/dist-packages/sklearn/utils/deprecation.py:151: FutureWarning: 'force_all_finite' was renamed to 'ensure_all_finite' in 1.6 and will be removed in 1.8.\n",
      "  warnings.warn(\n",
      "/usr/local/lib/python3.11/dist-packages/sklearn/utils/deprecation.py:151: FutureWarning: 'force_all_finite' was renamed to 'ensure_all_finite' in 1.6 and will be removed in 1.8.\n",
      "  warnings.warn(\n",
      "/usr/local/lib/python3.11/dist-packages/sklearn/utils/deprecation.py:151: FutureWarning: 'force_all_finite' was renamed to 'ensure_all_finite' in 1.6 and will be removed in 1.8.\n",
      "  warnings.warn(\n",
      "/usr/local/lib/python3.11/dist-packages/sklearn/utils/deprecation.py:151: FutureWarning: 'force_all_finite' was renamed to 'ensure_all_finite' in 1.6 and will be removed in 1.8.\n",
      "  warnings.warn(\n",
      "/usr/local/lib/python3.11/dist-packages/sklearn/utils/deprecation.py:151: FutureWarning: 'force_all_finite' was renamed to 'ensure_all_finite' in 1.6 and will be removed in 1.8.\n",
      "  warnings.warn(\n",
      "/usr/local/lib/python3.11/dist-packages/sklearn/utils/deprecation.py:151: FutureWarning: 'force_all_finite' was renamed to 'ensure_all_finite' in 1.6 and will be removed in 1.8.\n",
      "  warnings.warn(\n",
      "/usr/local/lib/python3.11/dist-packages/sklearn/utils/deprecation.py:151: FutureWarning: 'force_all_finite' was renamed to 'ensure_all_finite' in 1.6 and will be removed in 1.8.\n",
      "  warnings.warn(\n",
      "/usr/local/lib/python3.11/dist-packages/sklearn/utils/deprecation.py:151: FutureWarning: 'force_all_finite' was renamed to 'ensure_all_finite' in 1.6 and will be removed in 1.8.\n",
      "  warnings.warn(\n",
      "/usr/local/lib/python3.11/dist-packages/sklearn/utils/deprecation.py:151: FutureWarning: 'force_all_finite' was renamed to 'ensure_all_finite' in 1.6 and will be removed in 1.8.\n",
      "  warnings.warn(\n",
      "/usr/local/lib/python3.11/dist-packages/sklearn/utils/deprecation.py:151: FutureWarning: 'force_all_finite' was renamed to 'ensure_all_finite' in 1.6 and will be removed in 1.8.\n",
      "  warnings.warn(\n",
      "/usr/local/lib/python3.11/dist-packages/sklearn/utils/deprecation.py:151: FutureWarning: 'force_all_finite' was renamed to 'ensure_all_finite' in 1.6 and will be removed in 1.8.\n",
      "  warnings.warn(\n",
      "/usr/local/lib/python3.11/dist-packages/sklearn/utils/deprecation.py:151: FutureWarning: 'force_all_finite' was renamed to 'ensure_all_finite' in 1.6 and will be removed in 1.8.\n",
      "  warnings.warn(\n",
      "/usr/local/lib/python3.11/dist-packages/sklearn/utils/deprecation.py:151: FutureWarning: 'force_all_finite' was renamed to 'ensure_all_finite' in 1.6 and will be removed in 1.8.\n",
      "  warnings.warn(\n",
      "/usr/local/lib/python3.11/dist-packages/sklearn/utils/deprecation.py:151: FutureWarning: 'force_all_finite' was renamed to 'ensure_all_finite' in 1.6 and will be removed in 1.8.\n",
      "  warnings.warn(\n"
     ]
    },
    {
     "data": {
      "text/plain": [
       "[0.3253912472042961,\n",
       " 0.3170313577772397,\n",
       " 0.31222932772608025,\n",
       " 0.35754584738266926,\n",
       " 0.21576809617095039,\n",
       " 0.28784289427959153,\n",
       " 0.18760445380006685]"
      ]
     },
     "execution_count": 30,
     "metadata": {},
     "output_type": "execute_result"
    }
   ],
   "source": [
    "all_sims = grid_search_hdb([2,3,4,5,6,7,8], reduced_batch_1_emb)\n",
    "all_sims"
   ]
  },
  {
   "cell_type": "markdown",
   "metadata": {
    "id": "x-nT6TOq8iSk"
   },
   "source": [
    "<h1> NB: 5 seems to be opt min num points for HDBscan"
   ]
  },
  {
   "cell_type": "code",
   "execution_count": null,
   "metadata": {
    "id": "OdKtYBP9rXm4"
   },
   "outputs": [],
   "source": [
    "#hdbscan clustering algo\n",
    "\n",
    "def cluster_embeddings(min_cluster_size, reduced_embeddings):\n",
    "  clusterer = hdbscan.HDBSCAN(min_cluster_size=min_cluster_size, gen_min_span_tree=True)\n",
    "  clusterer.fit(reduced_embeddings)\n",
    "  return clusterer"
   ]
  },
  {
   "cell_type": "code",
   "execution_count": null,
   "metadata": {
    "colab": {
     "base_uri": "https://localhost:8080/"
    },
    "collapsed": true,
    "id": "tkDICglrsAoI",
    "outputId": "3c514dfa-137d-42f5-bb71-c7b94217f3c0"
   },
   "outputs": [
    {
     "name": "stderr",
     "output_type": "stream",
     "text": [
      "/usr/local/lib/python3.11/dist-packages/sklearn/utils/deprecation.py:151: FutureWarning: 'force_all_finite' was renamed to 'ensure_all_finite' in 1.6 and will be removed in 1.8.\n",
      "  warnings.warn(\n",
      "/usr/local/lib/python3.11/dist-packages/sklearn/utils/deprecation.py:151: FutureWarning: 'force_all_finite' was renamed to 'ensure_all_finite' in 1.6 and will be removed in 1.8.\n",
      "  warnings.warn(\n"
     ]
    },
    {
     "data": {
      "text/plain": [
       "array([-1, -1, -1, -1, -1, -1, -1, -1, -1, -1, -1,  5,  5, -1, -1, -1, -1,\n",
       "       -1,  8, -1, -1,  5, -1, -1, -1, -1, -1, -1, -1, -1, -1, -1, -1, -1,\n",
       "       -1,  8, -1, -1, -1, -1, -1, -1, -1, -1, -1, -1, -1,  5, -1,  6, -1,\n",
       "       -1,  4,  6, -1, -1,  1, -1, -1,  2,  5, -1,  0,  6, -1,  3, -1,  2,\n",
       "        2, -1, -1, -1, -1, -1, -1,  5,  4, -1, -1, -1, -1, -1, -1,  7, -1,\n",
       "       -1, -1, -1, -1, -1, -1, -1, -1,  6, -1, -1, -1, -1, -1, -1, -1, -1,\n",
       "       -1, -1,  8,  6, -1, -1, -1, -1, -1, -1, -1, -1, -1, -1, -1, -1, -1,\n",
       "       -1, -1,  1, -1,  5,  1, -1, -1, -1,  8, -1, -1, -1, -1, -1, -1,  1,\n",
       "       -1, -1,  8, -1, -1, -1, -1, -1,  0, -1, -1,  1, -1,  1, -1, -1, -1,\n",
       "       -1,  8,  0, -1, -1,  1, -1, -1, -1, -1, -1, -1, -1, -1, -1, -1, -1,\n",
       "       -1, -1, -1, -1, -1, -1,  0, -1, -1, -1, -1, -1, -1,  0, -1,  3, -1,\n",
       "       -1, -1,  7, -1, -1, -1, -1,  5,  4, -1,  2, -1, -1,  7, -1, -1, -1,\n",
       "       -1, -1, -1,  2, -1,  2, -1, -1,  6, -1, -1, -1,  5, -1, -1, -1, -1,\n",
       "       -1, -1,  5, -1, -1, -1, -1, -1, -1, -1, -1, -1, -1, -1, -1, -1, -1,\n",
       "       -1, -1, -1, -1, -1, -1, -1, -1, -1, -1, -1, -1, -1, -1, -1, -1, -1,\n",
       "       -1, -1, -1, -1, -1, -1, -1, -1, -1, -1, -1,  7, -1, -1, -1,  1, -1,\n",
       "       -1,  6,  5, -1, -1, -1, -1, -1, -1, -1, -1, -1, -1, -1, -1,  1,  0,\n",
       "       -1, -1,  7, -1, -1, -1, -1, -1, -1, -1, -1, -1,  6, -1, -1, -1,  4,\n",
       "       -1, -1,  5, -1, -1, -1, -1, -1, -1, -1,  6, -1, -1, -1, -1, -1, -1,\n",
       "       -1, -1, -1, -1, -1, -1, -1, -1, -1, -1, -1, -1,  7, -1, -1, -1, -1,\n",
       "       -1, -1,  6, -1, -1, -1, -1, -1,  2, -1, -1, -1, -1, -1, -1,  6, -1,\n",
       "       -1, -1, -1, -1, -1, -1, -1, -1, -1, -1,  7,  1, -1, -1, -1, -1, -1,\n",
       "       -1, -1, -1, -1,  3, -1, -1, -1, -1, -1, -1, -1, -1, -1, -1, -1, -1,\n",
       "       -1,  2, -1, -1, -1, -1, -1,  2, -1, -1, -1, -1, -1, -1, -1, -1, -1,\n",
       "       -1, -1, -1, -1, -1,  6, -1, -1, -1, -1, -1, -1, -1, -1,  4, -1, -1,\n",
       "       -1, -1, -1,  0, -1, -1, -1, -1,  3, -1, -1, -1, -1, -1, -1, -1, -1,\n",
       "       -1, -1, -1, -1, -1, -1,  2, -1, -1, -1, -1, -1, -1, -1, -1,  4,  1,\n",
       "       -1, -1, -1, -1, -1, -1, -1, -1, -1,  4, -1, -1, -1, -1, -1,  5, -1,\n",
       "        4, -1, -1, -1, -1, -1, -1, -1, -1, -1,  2, -1, -1, -1, -1,  5, -1,\n",
       "       -1,  6, -1, -1,  6,  8, -1, -1, -1, -1,  8, -1, -1, -1, -1, -1, -1,\n",
       "       -1, -1,  0, -1, -1, -1, -1, -1,  6,  5, -1, -1, -1, -1, -1, -1, -1,\n",
       "       -1, -1, -1, -1,  3, -1, -1, -1, -1, -1, -1, -1, -1,  6, -1, -1, -1,\n",
       "       -1, -1, -1, -1, -1, -1, -1, -1, -1,  4, -1, -1, -1, -1,  3, -1, -1,\n",
       "       -1, -1, -1, -1, -1, -1, -1, -1, -1, -1, -1, -1, -1, -1, -1, -1, -1,\n",
       "        2,  8, -1, -1, -1, -1,  6, -1, -1, -1, -1, -1, -1, -1, -1,  6, -1,\n",
       "       -1, -1, -1, -1, -1, -1, -1, -1, -1, -1, -1, -1, -1, -1, -1, -1, -1,\n",
       "       -1, -1, -1, -1, -1, -1, -1, -1, -1, -1, -1, -1, -1, -1, -1, -1, -1,\n",
       "       -1, -1, -1, -1,  2, -1, -1, -1, -1, -1, -1, -1, -1, -1, -1,  7, -1,\n",
       "       -1, -1, -1, -1, -1,  2, -1, -1,  2, -1, -1, -1, -1, -1, -1, -1,  7,\n",
       "       -1, -1, -1, -1, -1, -1])"
      ]
     },
     "execution_count": 32,
     "metadata": {},
     "output_type": "execute_result"
    }
   ],
   "source": [
    "clusterer = cluster_embeddings(5, reduced_batch_1_emb) #actually, min_cluster_size is a hyperparameter to tune\n",
    "clusterer.labels_"
   ]
  },
  {
   "cell_type": "code",
   "execution_count": null,
   "metadata": {
    "colab": {
     "base_uri": "https://localhost:8080/",
     "height": 429
    },
    "id": "zuW3NG95YijZ",
    "outputId": "7f8b8143-bce9-4d9f-e35e-f5fd25c16f08"
   },
   "outputs": [
    {
     "data": {
      "text/html": [
       "<div>\n",
       "<style scoped>\n",
       "    .dataframe tbody tr th:only-of-type {\n",
       "        vertical-align: middle;\n",
       "    }\n",
       "\n",
       "    .dataframe tbody tr th {\n",
       "        vertical-align: top;\n",
       "    }\n",
       "\n",
       "    .dataframe thead th {\n",
       "        text-align: right;\n",
       "    }\n",
       "</style>\n",
       "<table border=\"1\" class=\"dataframe\">\n",
       "  <thead>\n",
       "    <tr style=\"text-align: right;\">\n",
       "      <th></th>\n",
       "      <th>count</th>\n",
       "    </tr>\n",
       "    <tr>\n",
       "      <th>0</th>\n",
       "      <th></th>\n",
       "    </tr>\n",
       "  </thead>\n",
       "  <tbody>\n",
       "    <tr>\n",
       "      <th>-1</th>\n",
       "      <td>569</td>\n",
       "    </tr>\n",
       "    <tr>\n",
       "      <th>6</th>\n",
       "      <td>18</td>\n",
       "    </tr>\n",
       "    <tr>\n",
       "      <th>5</th>\n",
       "      <td>15</td>\n",
       "    </tr>\n",
       "    <tr>\n",
       "      <th>2</th>\n",
       "      <td>15</td>\n",
       "    </tr>\n",
       "    <tr>\n",
       "      <th>1</th>\n",
       "      <td>11</td>\n",
       "    </tr>\n",
       "    <tr>\n",
       "      <th>7</th>\n",
       "      <td>9</td>\n",
       "    </tr>\n",
       "    <tr>\n",
       "      <th>8</th>\n",
       "      <td>9</td>\n",
       "    </tr>\n",
       "    <tr>\n",
       "      <th>4</th>\n",
       "      <td>9</td>\n",
       "    </tr>\n",
       "    <tr>\n",
       "      <th>0</th>\n",
       "      <td>8</td>\n",
       "    </tr>\n",
       "    <tr>\n",
       "      <th>3</th>\n",
       "      <td>6</td>\n",
       "    </tr>\n",
       "  </tbody>\n",
       "</table>\n",
       "</div><br><label><b>dtype:</b> int64</label>"
      ],
      "text/plain": [
       "0 \n",
       "-1    569\n",
       " 6     18\n",
       " 5     15\n",
       " 2     15\n",
       " 1     11\n",
       " 7      9\n",
       " 8      9\n",
       " 4      9\n",
       " 0      8\n",
       " 3      6\n",
       "Name: count, dtype: int64"
      ]
     },
     "execution_count": 33,
     "metadata": {},
     "output_type": "execute_result"
    }
   ],
   "source": [
    "import pandas as pd\n",
    "\n",
    "temp_df = pd.DataFrame(clusterer.labels_)\n",
    "temp_df.value_counts()"
   ]
  },
  {
   "cell_type": "code",
   "execution_count": null,
   "metadata": {
    "id": "VKFNazz0sHY2"
   },
   "outputs": [],
   "source": [
    "doc_clusters = create_doc_clusters(batch_1, clusterer.labels_)"
   ]
  },
  {
   "cell_type": "code",
   "execution_count": null,
   "metadata": {
    "id": "AZoNylqgXM8u"
   },
   "outputs": [],
   "source": [
    "#create word_to_id, id_to_word, freq_mats (freq mats for each cluster based on global vocab)\n",
    "word_to_id, id_to_word, freq_mats = create_vocab_and_matrices(batch_1, doc_clusters)"
   ]
  },
  {
   "cell_type": "code",
   "execution_count": null,
   "metadata": {
    "colab": {
     "base_uri": "https://localhost:8080/"
    },
    "id": "DA694HmRXPsd",
    "outputId": "3f09fc94-4c00-41e5-c21b-83f7b7e6de0d"
   },
   "outputs": [
    {
     "name": "stdout",
     "output_type": "stream",
     "text": [
      "cluster_key: -1\n",
      "Words: ['like', 'just', 'people', 'https', 'don', 'think', 'use', 'time', 'com', 'ai']\n",
      "cluster_key: 0\n",
      "Words: ['just', 'time', 'like', 'work', 'people', 'software', 'don', 'job', 'think', 'make']\n",
      "cluster_key: 1\n",
      "Words: ['firefox', 'mozilla', 'browser', 'like', 'just', 'don', 'web', 'https', 'chrome', 'data']\n",
      "cluster_key: 2\n",
      "Words: ['russia', 'ukraine', 'trump', 'war', 'just', 'nuclear', 'don', 'putin', 'people', 'like']\n",
      "cluster_key: 3\n",
      "Words: ['https', 'china', 'car', 'canada', 'cars', 'don', 'just', 'like', 'com', 'ev']\n",
      "cluster_key: 4\n",
      "Words: ['people', 'like', 'bitcoin', 'just', 'crypto', 'don', 'rich', 'government', 'gold', 'economy']\n",
      "cluster_key: 5\n",
      "Words: ['like', 'code', 'just', 'people', 'government', 'don', 'https', 'llm', 'discord', 'llms']\n",
      "cluster_key: 6\n",
      "Words: ['like', 'just', 'think', 'don', 'data', 'people', 'model', 'https', 'use', 'ai']\n",
      "cluster_key: 7\n",
      "Words: ['buffalo', 'blood', 'measles', 'child', 'just', 'luteolin', 'vaccines', 'like', 'people', 'https']\n",
      "cluster_key: 8\n",
      "Words: ['rust', 'like', 'just', 'type', 'use', 'code', 'don', 'memory', 'ebpf', 'using']\n"
     ]
    }
   ],
   "source": [
    "#calculate tfifd and get words\n",
    "for cluster_key, mat in freq_mats.items():\n",
    "  ids, words = tfidf_selection(10, mat, id_to_word)\n",
    "  print(f'cluster_key: {cluster_key}\\nWords: {words}')"
   ]
  },
  {
   "cell_type": "code",
   "execution_count": null,
   "metadata": {
    "colab": {
     "base_uri": "https://localhost:8080/",
     "height": 490
    },
    "id": "WUDAoh3vg63m",
    "outputId": "9f59b1a0-1278-4bf7-eed8-1cad28c5fe76"
   },
   "outputs": [
    {
     "data": {
      "text/plain": [
       "Text(0.5, 1.0, 'clusters')"
      ]
     },
     "execution_count": 40,
     "metadata": {},
     "output_type": "execute_result"
    },
    {
     "data": {
      "image/png": "[encoded data removed]",
      "text/plain": [
       "<Figure size 640x480 with 1 Axes>"
      ]
     },
     "metadata": {},
     "output_type": "display_data"
    }
   ],
   "source": [
    "#plot out 2 dims\n",
    "clusters = np.unique(clusterer.labels_)\n",
    "colors = ['white', 'blue', 'green', 'pink', 'brown', 'purple', 'orange', 'cyan', 'black', 'olive']\n",
    "\n",
    "for cluster, color in zip(clusters, colors):\n",
    "  doc_ids = np.where(clusterer.labels_==cluster)[0]\n",
    "  cluster_mat = reduced_batch_1_emb[doc_ids]\n",
    "  plt.scatter(cluster_mat[:,0], cluster_mat[:,1], color=color, label=cluster)\n",
    "\n",
    "plt.xlabel('dim_1')\n",
    "plt.ylabel('dim_2')\n",
    "plt.legend()\n",
    "plt.title('clusters')"
   ]
  },
  {
   "cell_type": "code",
   "execution_count": null,
   "metadata": {
    "colab": {
     "base_uri": "https://localhost:8080/",
     "height": 1000
    },
    "id": "zYTfhe69TEza",
    "outputId": "167a5fed-a700-4730-e538-052b751d76ee"
   },
   "outputs": [
    {
     "name": "stderr",
     "output_type": "stream",
     "text": [
      "<ipython-input-10-481a3b7934a6>:18: UserWarning: No artists with labels found to put in legend.  Note that artists whose label start with an underscore are ignored when legend() is called with no argument.\n",
      "  plt.legend()\n"
     ]
    },
    {
     "data": {
      "image/png": "[encoded data removed]",
      "text/plain": [
       "<Figure size 1000x600 with 1 Axes>"
      ]
     },
     "metadata": {},
     "output_type": "display_data"
    },
    {
     "name": "stdout",
     "output_type": "stream",
     "text": [
      "Creating opt PCA with n_components=40\n"
     ]
    },
    {
     "data": {
      "image/png": "[encoded data removed]",
      "text/plain": [
       "<Figure size 640x480 with 1 Axes>"
      ]
     },
     "metadata": {},
     "output_type": "display_data"
    },
    {
     "name": "stderr",
     "output_type": "stream",
     "text": [
      "/usr/local/lib/python3.11/dist-packages/sklearn/utils/deprecation.py:151: FutureWarning: 'force_all_finite' was renamed to 'ensure_all_finite' in 1.6 and will be removed in 1.8.\n",
      "  warnings.warn(\n",
      "/usr/local/lib/python3.11/dist-packages/sklearn/utils/deprecation.py:151: FutureWarning: 'force_all_finite' was renamed to 'ensure_all_finite' in 1.6 and will be removed in 1.8.\n",
      "  warnings.warn(\n",
      "/usr/local/lib/python3.11/dist-packages/sklearn/utils/deprecation.py:151: FutureWarning: 'force_all_finite' was renamed to 'ensure_all_finite' in 1.6 and will be removed in 1.8.\n",
      "  warnings.warn(\n",
      "/usr/local/lib/python3.11/dist-packages/sklearn/utils/deprecation.py:151: FutureWarning: 'force_all_finite' was renamed to 'ensure_all_finite' in 1.6 and will be removed in 1.8.\n",
      "  warnings.warn(\n",
      "/usr/local/lib/python3.11/dist-packages/sklearn/utils/deprecation.py:151: FutureWarning: 'force_all_finite' was renamed to 'ensure_all_finite' in 1.6 and will be removed in 1.8.\n",
      "  warnings.warn(\n",
      "/usr/local/lib/python3.11/dist-packages/sklearn/utils/deprecation.py:151: FutureWarning: 'force_all_finite' was renamed to 'ensure_all_finite' in 1.6 and will be removed in 1.8.\n",
      "  warnings.warn(\n",
      "/usr/local/lib/python3.11/dist-packages/sklearn/utils/deprecation.py:151: FutureWarning: 'force_all_finite' was renamed to 'ensure_all_finite' in 1.6 and will be removed in 1.8.\n",
      "  warnings.warn(\n",
      "/usr/local/lib/python3.11/dist-packages/sklearn/utils/deprecation.py:151: FutureWarning: 'force_all_finite' was renamed to 'ensure_all_finite' in 1.6 and will be removed in 1.8.\n",
      "  warnings.warn(\n",
      "/usr/local/lib/python3.11/dist-packages/sklearn/utils/deprecation.py:151: FutureWarning: 'force_all_finite' was renamed to 'ensure_all_finite' in 1.6 and will be removed in 1.8.\n",
      "  warnings.warn(\n",
      "/usr/local/lib/python3.11/dist-packages/sklearn/utils/deprecation.py:151: FutureWarning: 'force_all_finite' was renamed to 'ensure_all_finite' in 1.6 and will be removed in 1.8.\n",
      "  warnings.warn(\n",
      "/usr/local/lib/python3.11/dist-packages/sklearn/utils/deprecation.py:151: FutureWarning: 'force_all_finite' was renamed to 'ensure_all_finite' in 1.6 and will be removed in 1.8.\n",
      "  warnings.warn(\n",
      "/usr/local/lib/python3.11/dist-packages/sklearn/utils/deprecation.py:151: FutureWarning: 'force_all_finite' was renamed to 'ensure_all_finite' in 1.6 and will be removed in 1.8.\n",
      "  warnings.warn(\n",
      "/usr/local/lib/python3.11/dist-packages/sklearn/utils/deprecation.py:151: FutureWarning: 'force_all_finite' was renamed to 'ensure_all_finite' in 1.6 and will be removed in 1.8.\n",
      "  warnings.warn(\n",
      "/usr/local/lib/python3.11/dist-packages/sklearn/utils/deprecation.py:151: FutureWarning: 'force_all_finite' was renamed to 'ensure_all_finite' in 1.6 and will be removed in 1.8.\n",
      "  warnings.warn(\n"
     ]
    },
    {
     "data": {
      "text/plain": [
       "[0.010369675535816006,\n",
       " 0.28165828225808553,\n",
       " 0.11099343540710072,\n",
       " 0.3327556142364311,\n",
       " 0.30917592181099784,\n",
       " 0.3042364210213148,\n",
       " 0.26623800672155473]"
      ]
     },
     "execution_count": 41,
     "metadata": {},
     "output_type": "execute_result"
    }
   ],
   "source": [
    "#now do the same thing but with batch_2\n",
    "reduced_batch_2_emb = opt_pca(batch_2_emb, verbose=True, n_comp=40) #standardize n_comp=40\n",
    "show_2_dims(reduced_batch_2_emb)\n",
    "plt.show() #show the scatter plot\n",
    "\n",
    "#hyperparameter testing\n",
    "batch_2_sims = grid_search_hdb([2,3,4,5,6,7,8], reduced_batch_2_emb)\n",
    "batch_2_sims"
   ]
  },
  {
   "cell_type": "code",
   "execution_count": null,
   "metadata": {
    "colab": {
     "base_uri": "https://localhost:8080/",
     "height": 520
    },
    "id": "cZOQv1JZPtWP",
    "outputId": "c4146ad9-9f3a-42fd-8713-d3686135a40b"
   },
   "outputs": [
    {
     "name": "stderr",
     "output_type": "stream",
     "text": [
      "/usr/local/lib/python3.11/dist-packages/sklearn/utils/deprecation.py:151: FutureWarning: 'force_all_finite' was renamed to 'ensure_all_finite' in 1.6 and will be removed in 1.8.\n",
      "  warnings.warn(\n",
      "/usr/local/lib/python3.11/dist-packages/sklearn/utils/deprecation.py:151: FutureWarning: 'force_all_finite' was renamed to 'ensure_all_finite' in 1.6 and will be removed in 1.8.\n",
      "  warnings.warn(\n"
     ]
    },
    {
     "data": {
      "text/html": [
       "<div>\n",
       "<style scoped>\n",
       "    .dataframe tbody tr th:only-of-type {\n",
       "        vertical-align: middle;\n",
       "    }\n",
       "\n",
       "    .dataframe tbody tr th {\n",
       "        vertical-align: top;\n",
       "    }\n",
       "\n",
       "    .dataframe thead th {\n",
       "        text-align: right;\n",
       "    }\n",
       "</style>\n",
       "<table border=\"1\" class=\"dataframe\">\n",
       "  <thead>\n",
       "    <tr style=\"text-align: right;\">\n",
       "      <th></th>\n",
       "      <th>count</th>\n",
       "    </tr>\n",
       "    <tr>\n",
       "      <th>0</th>\n",
       "      <th></th>\n",
       "    </tr>\n",
       "  </thead>\n",
       "  <tbody>\n",
       "    <tr>\n",
       "      <th>-1</th>\n",
       "      <td>569</td>\n",
       "    </tr>\n",
       "    <tr>\n",
       "      <th>6</th>\n",
       "      <td>18</td>\n",
       "    </tr>\n",
       "    <tr>\n",
       "      <th>5</th>\n",
       "      <td>15</td>\n",
       "    </tr>\n",
       "    <tr>\n",
       "      <th>2</th>\n",
       "      <td>15</td>\n",
       "    </tr>\n",
       "    <tr>\n",
       "      <th>1</th>\n",
       "      <td>11</td>\n",
       "    </tr>\n",
       "    <tr>\n",
       "      <th>7</th>\n",
       "      <td>9</td>\n",
       "    </tr>\n",
       "    <tr>\n",
       "      <th>8</th>\n",
       "      <td>9</td>\n",
       "    </tr>\n",
       "    <tr>\n",
       "      <th>4</th>\n",
       "      <td>9</td>\n",
       "    </tr>\n",
       "    <tr>\n",
       "      <th>0</th>\n",
       "      <td>8</td>\n",
       "    </tr>\n",
       "    <tr>\n",
       "      <th>3</th>\n",
       "      <td>6</td>\n",
       "    </tr>\n",
       "  </tbody>\n",
       "</table>\n",
       "</div><br><label><b>dtype:</b> int64</label>"
      ],
      "text/plain": [
       "0 \n",
       "-1    569\n",
       " 6     18\n",
       " 5     15\n",
       " 2     15\n",
       " 1     11\n",
       " 7      9\n",
       " 8      9\n",
       " 4      9\n",
       " 0      8\n",
       " 3      6\n",
       "Name: count, dtype: int64"
      ]
     },
     "execution_count": 42,
     "metadata": {},
     "output_type": "execute_result"
    }
   ],
   "source": [
    "clusterer_2 = cluster_embeddings(5, reduced_batch_1_emb) #actually, min_cluster_size is a hyperparameter to tune\n",
    "temp_df = pd.DataFrame(clusterer_2.labels_)\n",
    "temp_df.value_counts()"
   ]
  },
  {
   "cell_type": "code",
   "execution_count": null,
   "metadata": {
    "colab": {
     "base_uri": "https://localhost:8080/"
    },
    "id": "1Bk92l8kP3iS",
    "outputId": "83967365-3d4c-4535-e6ed-6298d1f5f32a"
   },
   "outputs": [
    {
     "name": "stdout",
     "output_type": "stream",
     "text": [
      "cluster_key: -1\n",
      "Words: ['kata', 'intelligent_networkoh', 'olveralocation', 'harder', 'differentialequations', 'strapping', 'subjective', 'toll', 'clarifications', 'chooser']\n",
      "cluster_key: 0\n",
      "Words: ['addr_a', 'slime', 'chooser', 'kata', 'intelligent_networkoh', 'reproducibility', 'syndicating', 'groggy', 'budapest', 'tame']\n",
      "cluster_key: 1\n",
      "Words: ['anle', 'intelligent_networkoh', 'kata', 'olveralocation', 'toll', 'harder', 'differentialequations', 'signpost', 'strapping', 'nber']\n",
      "cluster_key: 2\n",
      "Words: ['intelligent_networkoh', 'kata', 'harder', 'bueno', 'differentialequations', 'olveralocation', 'clearcase', 'option3', 'alliance', 'clarifications']\n",
      "cluster_key: 3\n",
      "Words: ['olveralocation', 'strapping', 'catering', 'linguist', 'intelligent_networkoh', 'harder', 'postinghere', 'kata', 'causality', 'gru']\n",
      "cluster_key: 4\n",
      "Words: ['pharmaceutical', 'torpedos', 'kata', 'intelligent_networkoh', 'airfilters', 'olveralocation', 'differentialequations', 'strapping', 'cognitive_biashumans', 'sharedalbum']\n",
      "cluster_key: 5\n",
      "Words: ['kata', 'asyncfn', 'intelligent_networkoh', 'harder', 'strapping', 'differentialequations', 'graders', 'meats', 'olveralocation', 'toll']\n",
      "cluster_key: 6\n",
      "Words: ['function_callable', 'kata', 'intelligent_networkoh', 'celebrate', 'differentialequations', 'olveralocation', 'harder', 'strapping', 'explorers', 'blesses']\n",
      "cluster_key: 7\n",
      "Words: ['olveralocation', 'kata', 'leadfor', 'harder', 'intelligent_networkoh', 'centiles', 'differentialequations', 'e30', 'fullscreen', 'conservativeness']\n",
      "cluster_key: 8\n",
      "Words: ['kata', 'policyd', 'intelligent_networkoh', 'mustered', 'informing', 'buoyed', 'maneuverability', 'harder', 'fe33d49c', 'explorers']\n"
     ]
    }
   ],
   "source": [
    "doc_clusters_2 = create_doc_clusters(batch_2, clusterer_2.labels_)\n",
    "word_to_id_2, id_to_word_2, freq_mats_2 = create_vocab_and_matrices(batch_2, doc_clusters_2)\n",
    "for cluster_key, mat in freq_mats_2.items():\n",
    "  ids, words = tfidf_selection(10, mat, id_to_word)\n",
    "  print(f'cluster_key: {cluster_key}\\nWords: {words}')"
   ]
  },
  {
   "cell_type": "code",
   "execution_count": null,
   "metadata": {
    "id": "gL0x5wvci4mS"
   },
   "outputs": [],
   "source": [
    "with open(\"cluster_0.txt\", \"w\") as f:\n",
    "  for item in doc_clusters[0]:\n",
    "    f.write(item + \"\\n\")"
   ]
  },
  {
   "cell_type": "markdown",
   "metadata": {
    "id": "9sPgVF8tUpwc"
   },
   "source": [
    "<h1>old stuff"
   ]
  },
  {
   "cell_type": "code",
   "execution_count": null,
   "metadata": {
    "id": "nKJd6B65uU1t"
   },
   "outputs": [],
   "source": [
    "#old implementation\n",
    "word_freq_mats = {}\n",
    "vocabs = {}\n",
    "word_to_id_dict = {}\n",
    "id_to_word_dict = {}\n",
    "\n",
    "for key, value in doc_clusters.items():\n",
    "  #value is initially a ist of individual strings for each doc, need to convert to a single concat string (cluster_str_rep)\n",
    "  cluster_str_rep = [\" \".join(value)]\n",
    "  word_freq_mats[key], vocabs[key], word_to_id_dict[key], id_to_word_dict[key] = create_vocab(cluster_str_rep)\n"
   ]
  },
  {
   "cell_type": "code",
   "execution_count": null,
   "metadata": {
    "colab": {
     "base_uri": "https://localhost:8080/"
    },
    "id": "WCVVn5UWuYop",
    "outputId": "255c96ea-d9f2-4a01-be6e-1e25b37128e6"
   },
   "outputs": [
    {
     "name": "stdout",
     "output_type": "stream",
     "text": [
      "cluster_key: -1\n",
      "Words: ['like', 'just', 'people', 'don', 'https', 'think', 'time', 'use', 'com', 'way']\n",
      "cluster_key: 0\n",
      "Words: ['like', 'just', 'don', 'people', 'use', 'google', 'think', 'ai', 'time', 'search']\n",
      "cluster_key: 1\n",
      "Words: ['lisp', 'like', 'code', 'just', 'language', 'functional', 'use', 'languages', 'https', 'programming']\n"
     ]
    }
   ],
   "source": [
    "#old implementation\n",
    "for key, value in doc_clusters.items():\n",
    "  ids, words = tfidf_selection(10, word_freq_mats[key], id_to_word_dict[key])\n",
    "  print(f'cluster_key: {key}\\nWords: {words}')\n",
    "\n",
    "#note that -1 is noise"
   ]
  },
  {
   "cell_type": "code",
   "execution_count": null,
   "metadata": {
    "colab": {
     "base_uri": "https://localhost:8080/"
    },
    "id": "coKjf6jQTPIP",
    "outputId": "508bd2c7-03b6-4055-b532-36926040aca2"
   },
   "outputs": [
    {
     "name": "stderr",
     "output_type": "stream",
     "text": [
      "/usr/local/lib/python3.11/dist-packages/sklearn/utils/deprecation.py:151: FutureWarning: 'force_all_finite' was renamed to 'ensure_all_finite' in 1.6 and will be removed in 1.8.\n",
      "  warnings.warn(\n",
      "/usr/local/lib/python3.11/dist-packages/sklearn/utils/deprecation.py:151: FutureWarning: 'force_all_finite' was renamed to 'ensure_all_finite' in 1.6 and will be removed in 1.8.\n",
      "  warnings.warn(\n"
     ]
    }
   ],
   "source": [
    "#optimal min_cluster_size is 3\n",
    "clusterer = hdbscan.HDBSCAN(min_cluster_size=3)\n",
    "clusterer.fit(reduced_para_embeddings)\n",
    "cluster_labels = clusterer.labels_"
   ]
  },
  {
   "cell_type": "code",
   "execution_count": null,
   "metadata": {
    "id": "Dngpi2odVOxG"
   },
   "outputs": [],
   "source": [
    "doc_clusters = create_doc_clusters(paras, clusterer.labels_)"
   ]
  },
  {
   "cell_type": "code",
   "execution_count": null,
   "metadata": {
    "id": "somaP5hZWWiQ"
   },
   "outputs": [],
   "source": [
    "#create cluster_str_rep, a string representation of all the docs in a cluster, and all_docs\n",
    "all_docs = []\n",
    "for key, value in doc_clusters.items():\n",
    "  cluster_str_rep = \" \".join(value)\n",
    "  all_docs.append(all_docs)\n",
    "\n",
    "word_to_id, id_to_word, freq_mats = create_vocab_and_matrices(all_docs, doc_clusters.keys())"
   ]
  },
  {
   "cell_type": "code",
   "execution_count": null,
   "metadata": {
    "id": "6v5-aC4JXAPh"
   },
   "outputs": [],
   "source": []
  },
  {
   "cell_type": "code",
   "execution_count": null,
   "metadata": {
    "id": "rT9QSkciVRmP"
   },
   "outputs": [],
   "source": [
    "#old implementation\n",
    "word_freq_mats = {}\n",
    "vocabs = {}\n",
    "word_to_id_dict = {}\n",
    "id_to_word_dict = {}\n",
    "\n",
    "for key, value in doc_clusters.items():\n",
    "  #value is initially a ist of individual strings for each doc, need to convert to a single concat string (cluster_str_rep)\n",
    "  cluster_str_rep = [\" \".join(value)]\n",
    "  word_freq_mats[key], vocabs[key], word_to_id_dict[key], id_to_word_dict[key] = create_vocab(cluster_str_rep)\n"
   ]
  },
  {
   "cell_type": "code",
   "execution_count": null,
   "metadata": {
    "colab": {
     "base_uri": "https://localhost:8080/"
    },
    "id": "C4MqLnRIVUaD",
    "outputId": "1452710f-8585-4e76-a773-3c162f43340e"
   },
   "outputs": [
    {
     "name": "stdout",
     "output_type": "stream",
     "text": [
      "cluster_key: -1\n",
      "Words: ['ai', 'sort', 'hirevue', 'matrix', 'explainability']\n",
      "cluster_key: 0\n",
      "Words: ['employee', 'model', 'employed', 'examples', 'agency']\n",
      "cluster_key: 1\n",
      "Words: ['responsibility', 'ai', 'agency', 'action', 'responsible']\n",
      "cluster_key: 2\n",
      "Words: ['privacy', 'right', 'moral', 'value', 'information']\n"
     ]
    }
   ],
   "source": [
    "#old implementation\n",
    "for key, value in doc_clusters.items():\n",
    "  ids, words = tfidf_selection(5, word_freq_mats[key], id_to_word_dict[key])\n",
    "  print(f'cluster_key: {key}\\nWords: {words}')\n",
    "\n",
    "#note that -1 is noise"
   ]
  },
  {
   "cell_type": "code",
   "execution_count": null,
   "metadata": {
    "colab": {
     "base_uri": "https://localhost:8080/"
    },
    "id": "lRDpG6ofVWdp",
    "outputId": "b59355ae-99d8-4b70-f9a6-5e71cb1b94fa"
   },
   "outputs": [
    {
     "data": {
      "text/plain": [
       "array([ 2,  1, -1,  2,  1,  1,  1,  1, -1, -1,  2,  2,  2, -1, -1, -1,  0,\n",
       "        0,  0,  0])"
      ]
     },
     "execution_count": 58,
     "metadata": {},
     "output_type": "execute_result"
    }
   ],
   "source": [
    "cluster_labels\n",
    "#1, 4, 11, 12, 13 as the same essay on privacy rights\n",
    "#3, 9, 10 as np.argsort\n",
    "#2, 5, 6, 7, 8 as the same essay on responsibility\n",
    "#14, 15, 16 as hirevue\n",
    "#17, 18, 19, 20 as aml proj 1 report"
   ]
  },
  {
   "cell_type": "code",
   "execution_count": null,
   "metadata": {
    "colab": {
     "base_uri": "https://localhost:8080/"
    },
    "id": "cCC4rh1Zz_tq",
    "outputId": "d6ba0775-3327-4547-8b37-a6dac89a6bd8"
   },
   "outputs": [
    {
     "data": {
      "text/plain": [
       "list"
      ]
     },
     "execution_count": 2,
     "metadata": {},
     "output_type": "execute_result"
    }
   ],
   "source": [
    "type(paras)"
   ]
  },
  {
   "cell_type": "code",
   "execution_count": null,
   "metadata": {
    "id": "SEa73VsZ27Sd"
   },
   "outputs": [],
   "source": []
  }
 ],
 "metadata": {
  "colab": {
   "provenance": []
  },
  "kernelspec": {
   "display_name": "Python 3",
   "name": "python3"
  },
  "language_info": {
   "name": "python"
  }
 },
 "nbformat": 4,
 "nbformat_minor": 0
}
